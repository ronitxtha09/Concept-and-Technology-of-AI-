{
  "nbformat": 4,
  "nbformat_minor": 0,
  "metadata": {
    "colab": {
      "provenance": []
    },
    "kernelspec": {
      "name": "python3",
      "display_name": "Python 3"
    },
    "language_info": {
      "name": "python"
    }
  },
  "cells": [
    {
      "cell_type": "code",
      "execution_count": 1,
      "metadata": {
        "id": "c3JT57q3f2Iw"
      },
      "outputs": [],
      "source": [
        "import pandas as pd"
      ]
    },
    {
      "cell_type": "code",
      "source": [
        "from google.colab import drive\n",
        "drive.mount('/content/drive')"
      ],
      "metadata": {
        "colab": {
          "base_uri": "https://localhost:8080/"
        },
        "id": "HuZ9_EJbKh8Q",
        "outputId": "4b5b8ef1-db19-49f4-d519-4780d1840f92"
      },
      "execution_count": 2,
      "outputs": [
        {
          "output_type": "stream",
          "name": "stdout",
          "text": [
            "Drive already mounted at /content/drive; to attempt to forcibly remount, call drive.mount(\"/content/drive\", force_remount=True).\n"
          ]
        }
      ]
    },
    {
      "cell_type": "markdown",
      "source": [
        "• Dataset for the Task: \"bank.csv\"\n",
        "1. Load the provided dataset and import in pandas DataFrame.\n",
        "2. Check info of the DataFrame and identify following:\n",
        "(a) columns with dtypes=object\n",
        "(b) unique values of those columns.\n",
        "(c) check for the total number of null values in each column.\n",
        "3. Drop all the columns with dtypes object and store in new DataFrame, also write the DataFrame in\n",
        "”.csv” with name ”banknumericdata.csv”\n",
        "4. Read ”banknumericdata.csv” and Find the summary statistics."
      ],
      "metadata": {
        "id": "JqZhocwagrUe"
      }
    },
    {
      "cell_type": "code",
      "source": [
        "df = pd.read_csv(\"/content/drive/MyDrive/Concept-and-Technology-of-AI-/bank .csv\")\n",
        "df.info() #Checking info of database\n",
        "object_columns = df.select_dtypes(include='object').columns #Gives only data type for object\n",
        "print(\"\\nColumns with dtypes=object:\")\n",
        "print(object_columns)\n",
        "unique_values = {col: df[col].unique() for col in object_columns} # For printing unique values of the columns\n",
        "for col, values in unique_values.items():\n",
        "  print(f\"Unique values in '{col}': {values}\")\n",
        "null_values = df.isnull().sum() # Checking the numbers of how many null value are there\n",
        "print(\"Null values in each column:\")\n",
        "print(null_values)\n",
        "df_numeric = df.select_dtypes(exclude=['object']) # Dropping all object with dtype\n",
        "df_numeric.to_csv(\"banknumericdata.csv\", index=False) # Saving the data into new csv file\n",
        "print(df_numeric.head())"
      ],
      "metadata": {
        "colab": {
          "base_uri": "https://localhost:8080/"
        },
        "id": "q6zwHelRgwAH",
        "outputId": "bef26b1f-e880-4b73-afe5-6c23ecc85290"
      },
      "execution_count": null,
      "outputs": [
        {
          "output_type": "stream",
          "name": "stdout",
          "text": [
            "<class 'pandas.core.frame.DataFrame'>\n",
            "RangeIndex: 45211 entries, 0 to 45210\n",
            "Data columns (total 17 columns):\n",
            " #   Column     Non-Null Count  Dtype \n",
            "---  ------     --------------  ----- \n",
            " 0   age        45211 non-null  int64 \n",
            " 1   job        45211 non-null  object\n",
            " 2   marital    45211 non-null  object\n",
            " 3   education  45211 non-null  object\n",
            " 4   default    45211 non-null  object\n",
            " 5   balance    45211 non-null  int64 \n",
            " 6   housing    45211 non-null  object\n",
            " 7   loan       45211 non-null  object\n",
            " 8   contact    45211 non-null  object\n",
            " 9   day        45211 non-null  int64 \n",
            " 10  month      45211 non-null  object\n",
            " 11  duration   45211 non-null  int64 \n",
            " 12  campaign   45211 non-null  int64 \n",
            " 13  pdays      45211 non-null  int64 \n",
            " 14  previous   45211 non-null  int64 \n",
            " 15  poutcome   45211 non-null  object\n",
            " 16  y          45211 non-null  object\n",
            "dtypes: int64(7), object(10)\n",
            "memory usage: 5.9+ MB\n",
            "\n",
            "Columns with dtypes=object:\n",
            "Index(['job', 'marital', 'education', 'default', 'housing', 'loan', 'contact',\n",
            "       'month', 'poutcome', 'y'],\n",
            "      dtype='object')\n",
            "Unique values in 'job': ['management' 'technician' 'entrepreneur' 'blue-collar' 'unknown'\n",
            " 'retired' 'admin.' 'services' 'self-employed' 'unemployed' 'housemaid'\n",
            " 'student']\n",
            "Unique values in 'marital': ['married' 'single' 'divorced']\n",
            "Unique values in 'education': ['tertiary' 'secondary' 'unknown' 'primary']\n",
            "Unique values in 'default': ['no' 'yes']\n",
            "Unique values in 'housing': ['yes' 'no']\n",
            "Unique values in 'loan': ['no' 'yes']\n",
            "Unique values in 'contact': ['unknown' 'cellular' 'telephone']\n",
            "Unique values in 'month': ['may' 'jun' 'jul' 'aug' 'oct' 'nov' 'dec' 'jan' 'feb' 'mar' 'apr' 'sep']\n",
            "Unique values in 'poutcome': ['unknown' 'failure' 'other' 'success']\n",
            "Unique values in 'y': ['no' 'yes']\n",
            "Null values in each column:\n",
            "age          0\n",
            "job          0\n",
            "marital      0\n",
            "education    0\n",
            "default      0\n",
            "balance      0\n",
            "housing      0\n",
            "loan         0\n",
            "contact      0\n",
            "day          0\n",
            "month        0\n",
            "duration     0\n",
            "campaign     0\n",
            "pdays        0\n",
            "previous     0\n",
            "poutcome     0\n",
            "y            0\n",
            "dtype: int64\n",
            "   age  balance  day  duration  campaign  pdays  previous\n",
            "0   58     2143    5       261         1     -1         0\n",
            "1   44       29    5       151         1     -1         0\n",
            "2   33        2    5        76         1     -1         0\n",
            "3   47     1506    5        92         1     -1         0\n",
            "4   33        1    5       198         1     -1         0\n"
          ]
        }
      ]
    },
    {
      "cell_type": "markdown",
      "source": [
        "Complete all the following Task:\n",
        "• Dataset for the Task: \"medical_student.csv\"\n",
        "1. Load the provided dataset and import in pandas DataFrame.\n",
        "2. Check info of the DataFrame and identify column with missing (null) values.\n",
        "3. For the column with missing values fill the values using various techniques we discussed above. Try\n",
        "to explain why did you select the particular methods for particular column.\n",
        "4. Check for any duplicate values present in Dataset and do necessary to manage the duplicate items.\n",
        "{Hint: dataset.duplicated.sum()}"
      ],
      "metadata": {
        "id": "1JV9SJrGkQC1"
      }
    },
    {
      "cell_type": "code",
      "source": [
        "import pandas as pd\n",
        "import numpy as np\n",
        "\n",
        "# Step 1: Load your dataset from a CSV file\n",
        "file_path = \"/content/drive/MyDrive/Concept-and-Technology-of-AI-/medical_students_dataset.csv\"  # Replace this with the actual path to your dataset\n",
        "iris_df = pd.read_csv(file_path)\n",
        "\n",
        "# Check for initial data overview\n",
        "print(\"Initial Dataset Overview:\")\n",
        "print(iris_df.head())\n",
        "\n",
        "# Adding missing values (optional, for demonstration purposes)\n",
        "np.random.seed(42)\n",
        "mask = np.random.rand(*iris_df.shape) < 0.1  # 10% missing\n",
        "iris_df[mask] = np.nan\n",
        "\n",
        "print(\"\\nMissing Values in Dataset Before Handling:\")\n",
        "print(iris_df.isnull().sum())\n",
        "\n",
        "# Step 2: Handle missing values\n",
        "for column in iris_df.columns:\n",
        "    if iris_df[column].dtype == 'float64' or iris_df[column].dtype == 'int64':  # Numeric column\n",
        "        # Fill with median\n",
        "        median_value = iris_df[column].median()\n",
        "        iris_df[column].fillna(median_value, inplace=True)\n",
        "        print(f\"Filled missing values in '{column}' with median: {median_value}\")\n",
        "    elif iris_df[column].dtype == 'object':  # Categorical column\n",
        "        # Fill with mode\n",
        "        mode_value = iris_df[column].mode()[0]\n",
        "        iris_df[column].fillna(mode_value, inplace=True)\n",
        "        print(f\"Filled missing values in '{column}' with mode: {mode_value}\")\n",
        "\n",
        "print(\"\\nMissing Values in Dataset After Handling:\")\n",
        "print(iris_df.isnull().sum())\n",
        "\n",
        "# Step 3: Check for duplicate rows\n",
        "duplicate_count = iris_df.duplicated().sum()\n",
        "print(f\"\\nNumber of duplicate rows in the dataset: {duplicate_count}\")\n",
        "\n",
        "# Step 4: Handle duplicate rows\n",
        "if duplicate_count > 0:\n",
        "    iris_df = iris_df.drop_duplicates()\n",
        "    print(\"\\nDuplicates removed. Updated DataFrame info:\")\n",
        "    print(iris_df.info())\n",
        "\n",
        "# Step 5: Output the cleaned DataFrame\n",
        "output_file = \"cleaned_dataset.csv\"\n",
        "iris_df.to_csv(output_file, index=False)\n",
        "print(f\"\\nCleaned dataset saved as '{output_file}'.\")\n"
      ],
      "metadata": {
        "colab": {
          "base_uri": "https://localhost:8080/"
        },
        "id": "q1WlKJI5kbXN",
        "outputId": "8fdf85f4-d163-4bf2-9b6c-9d3783971016"
      },
      "execution_count": 6,
      "outputs": [
        {
          "output_type": "stream",
          "name": "stdout",
          "text": [
            "Initial Dataset Overview:\n",
            "   Student ID   Age  Gender      Height     Weight Blood Type        BMI  \\\n",
            "0         1.0  18.0  Female  161.777924  72.354947          O  27.645835   \n",
            "1         2.0   NaN    Male  152.069157  47.630941          B        NaN   \n",
            "2         3.0  32.0  Female  182.537664  55.741083          A  16.729017   \n",
            "3         NaN  30.0    Male  182.112867  63.332207          B  19.096042   \n",
            "4         5.0  23.0  Female         NaN  46.234173          O        NaN   \n",
            "\n",
            "   Temperature  Heart Rate  Blood Pressure  Cholesterol Diabetes Smoking  \n",
            "0          NaN        95.0           109.0        203.0       No     NaN  \n",
            "1    98.714977        93.0           104.0        163.0       No      No  \n",
            "2    98.260293        76.0           130.0        216.0      Yes      No  \n",
            "3    98.839605        99.0           112.0        141.0       No     Yes  \n",
            "4    98.480008        95.0             NaN        231.0       No      No  \n",
            "\n",
            "Missing Values in Dataset Before Handling:\n",
            "Student ID        37850\n",
            "Age               38079\n",
            "Gender            38037\n",
            "Height            38126\n",
            "Weight            37868\n",
            "Blood Type        38113\n",
            "BMI               38129\n",
            "Temperature       37793\n",
            "Heart Rate        37951\n",
            "Blood Pressure    37858\n",
            "Cholesterol       38011\n",
            "Diabetes          38041\n",
            "Smoking           37892\n",
            "dtype: int64\n",
            "Filled missing values in 'Student ID' with median: 49968.0\n",
            "Filled missing values in 'Age' with median: 26.0\n",
            "Filled missing values in 'Gender' with mode: Male\n"
          ]
        },
        {
          "output_type": "stream",
          "name": "stderr",
          "text": [
            "<ipython-input-6-15d809ab265c>:25: FutureWarning: A value is trying to be set on a copy of a DataFrame or Series through chained assignment using an inplace method.\n",
            "The behavior will change in pandas 3.0. This inplace method will never work because the intermediate object on which we are setting values always behaves as a copy.\n",
            "\n",
            "For example, when doing 'df[col].method(value, inplace=True)', try using 'df.method({col: value}, inplace=True)' or df[col] = df[col].method(value) instead, to perform the operation inplace on the original object.\n",
            "\n",
            "\n",
            "  iris_df[column].fillna(median_value, inplace=True)\n",
            "<ipython-input-6-15d809ab265c>:30: FutureWarning: A value is trying to be set on a copy of a DataFrame or Series through chained assignment using an inplace method.\n",
            "The behavior will change in pandas 3.0. This inplace method will never work because the intermediate object on which we are setting values always behaves as a copy.\n",
            "\n",
            "For example, when doing 'df[col].method(value, inplace=True)', try using 'df.method({col: value}, inplace=True)' or df[col] = df[col].method(value) instead, to perform the operation inplace on the original object.\n",
            "\n",
            "\n",
            "  iris_df[column].fillna(mode_value, inplace=True)\n"
          ]
        },
        {
          "output_type": "stream",
          "name": "stdout",
          "text": [
            "Filled missing values in 'Height' with median: 174.91561183275553\n",
            "Filled missing values in 'Weight' with median: 70.0442765702329\n",
            "Filled missing values in 'Blood Type' with mode: B\n",
            "Filled missing values in 'BMI' with median: 22.67775797570992\n",
            "Filled missing values in 'Temperature' with median: 98.59958489577186\n",
            "Filled missing values in 'Heart Rate' with median: 80.0\n",
            "Filled missing values in 'Blood Pressure' with median: 115.0\n",
            "Filled missing values in 'Cholesterol' with median: 184.0\n",
            "Filled missing values in 'Diabetes' with mode: No\n",
            "Filled missing values in 'Smoking' with mode: No\n",
            "\n",
            "Missing Values in Dataset After Handling:\n",
            "Student ID        0\n",
            "Age               0\n",
            "Gender            0\n",
            "Height            0\n",
            "Weight            0\n",
            "Blood Type        0\n",
            "BMI               0\n",
            "Temperature       0\n",
            "Heart Rate        0\n",
            "Blood Pressure    0\n",
            "Cholesterol       0\n",
            "Diabetes          0\n",
            "Smoking           0\n",
            "dtype: int64\n",
            "\n",
            "Number of duplicate rows in the dataset: 2387\n",
            "\n",
            "Duplicates removed. Updated DataFrame info:\n",
            "<class 'pandas.core.frame.DataFrame'>\n",
            "Index: 197613 entries, 0 to 199999\n",
            "Data columns (total 13 columns):\n",
            " #   Column          Non-Null Count   Dtype  \n",
            "---  ------          --------------   -----  \n",
            " 0   Student ID      197613 non-null  float64\n",
            " 1   Age             197613 non-null  float64\n",
            " 2   Gender          197613 non-null  object \n",
            " 3   Height          197613 non-null  float64\n",
            " 4   Weight          197613 non-null  float64\n",
            " 5   Blood Type      197613 non-null  object \n",
            " 6   BMI             197613 non-null  float64\n",
            " 7   Temperature     197613 non-null  float64\n",
            " 8   Heart Rate      197613 non-null  float64\n",
            " 9   Blood Pressure  197613 non-null  float64\n",
            " 10  Cholesterol     197613 non-null  float64\n",
            " 11  Diabetes        197613 non-null  object \n",
            " 12  Smoking         197613 non-null  object \n",
            "dtypes: float64(9), object(4)\n",
            "memory usage: 21.1+ MB\n",
            "None\n",
            "\n",
            "Cleaned dataset saved as 'cleaned_dataset.csv'.\n"
          ]
        }
      ]
    },
    {
      "cell_type": "markdown",
      "source": [
        "Create a DataFrame that is subsetted for the columns ’Name’, ’Pclass’, ’Sex’, ’Age’, ’Fare’, and ’Survived’.\n",
        "Retain only those rows where ’Pclass’ is equal to 1, representing first-class passengers. What is the mean,\n",
        "median, maximum value, and minimum value of the ’Fare’ column?"
      ],
      "metadata": {
        "id": "p2ZA4QifK0K-"
      }
    },
    {
      "cell_type": "code",
      "source": [
        "import pandas as pd\n",
        "import seaborn as sns\n",
        "import matplotlib.pyplot as plt\n",
        "\n",
        "# Step 1: Load the dataset\n",
        "file_path = \"/content/drive/MyDrive/Concept-and-Technology-of-AI-/Titanic-Dataset.csv\"  # Replace with the actual file path\n",
        "df = pd.read_csv(file_path)\n",
        "\n",
        "# Step 2: Subset DataFrame for specific columns\n",
        "subset_df = df[['Name', 'Pclass', 'Sex', 'Age', 'Fare', 'Survived', 'Embarked']]\n",
        "\n",
        "# Step 3: Count and drop null values in the 'Age' column\n",
        "null_count = subset_df['Age'].isnull().sum()\n",
        "print(f\"Number of null values in the 'Age' column: {null_count}\")\n",
        "subset_df = subset_df.dropna(subset=['Age'])  # Drop rows where 'Age' is null\n",
        "print(f\"Number of null values in the 'Age' column after dropping: {subset_df['Age'].isnull().sum()}\")\n",
        "\n",
        "# Step 4: Apply one-hot encoding to the 'Embarked' column\n",
        "# Ensure 'Embarked' column has valid data before encoding\n",
        "if 'Embarked' in subset_df.columns:\n",
        "    encoded_df = pd.get_dummies(subset_df['Embarked'], prefix='Embarked')  # One-hot encode 'Embarked'\n",
        "    subset_df = pd.concat([subset_df, encoded_df], axis=1)  # Add encoded columns to the DataFrame\n",
        "    subset_df.drop(columns=['Embarked'], inplace=True)  # Drop the original 'Embarked' column\n",
        "else:\n",
        "    print(\"Warning: 'Embarked' column not found. Skipping one-hot encoding.\")\n",
        "\n",
        "# Step 5: Verify changes\n",
        "print(\"\\nUpdated DataFrame after processing:\")\n",
        "print(subset_df.head())\n",
        "\n",
        "# Step 6: Save the cleaned and updated DataFrame\n",
        "output_file = \"processed_titanic_data.csv\"\n",
        "subset_df.to_csv(output_file, index=False)\n",
        "print(f\"\\nProcessed data saved to '{output_file}'.\")\n",
        "\n",
        "# Step 1: Load the dataset\n",
        "file_path = \"processed_titanic_data.csv\"  # Replace with the processed file path\n",
        "df = pd.read_csv(file_path)\n",
        "\n",
        "# Step 2: Problem 4 - Calculate and Compare Mean Survival Rates by Gender\n",
        "mean_survival_rates = df.groupby('Sex')['Survived'].mean()\n",
        "print(\"Mean Survival Rates by Gender:\")\n",
        "print(mean_survival_rates)\n",
        "\n",
        "# Visualization: Mean Survival Rates by Gender\n",
        "plt.figure(figsize=(8, 5))\n",
        "sns.barplot(x=mean_survival_rates.index, y=mean_survival_rates.values, palette=\"pastel\")\n",
        "plt.title(\"Mean Survival Rates by Gender\")\n",
        "plt.xlabel(\"Gender\")\n",
        "plt.ylabel(\"Mean Survival Rate\")\n",
        "plt.ylim(0, 1)\n",
        "plt.show()\n",
        "\n",
        "# Step 3: Problem 5 - Decode 'Embarked' columns and compare survival rates by Gender and Port of Embarkation\n",
        "# Decode one-hot encoding for 'Embarked' (C, Q, S)\n",
        "if {'Embarked_C', 'Embarked_Q', 'Embarked_S'}.issubset(df.columns):\n",
        "    def decode_embarked(row):\n",
        "        if row['Embarked_C'] == 1: return 'C'\n",
        "        if row['Embarked_Q'] == 1: return 'Q'\n",
        "        if row['Embarked_S'] == 1: return 'S'\n",
        "        return 'Unknown'\n",
        "\n",
        "    df['Embarked_Category'] = df.apply(decode_embarked, axis=1)\n",
        "\n",
        "# Visualization: Survival Rates by Gender and Port of Embarkation\n",
        "plt.figure(figsize=(10, 6))\n",
        "sns.catplot(\n",
        "    x=\"Sex\", hue=\"Embarked_Category\", y=\"Survived\",\n",
        "    data=df, kind=\"bar\", height=5, aspect=1.5, palette=\"pastel\"\n",
        ")\n",
        "plt.title(\"Survival Rates by Gender and Port of Embarkation\")\n",
        "plt.xlabel(\"Gender\")\n",
        "plt.ylabel(\"Mean Survival Rate\")\n",
        "plt.ylim(0, 1)\n",
        "plt.show()\n",
        "\n"
      ],
      "metadata": {
        "colab": {
          "base_uri": "https://localhost:8080/",
          "height": 1000
        },
        "id": "w6f2Omg-n1K_",
        "outputId": "d5aa8572-4edd-4d92-daa8-42ece1bfdfe3"
      },
      "execution_count": 12,
      "outputs": [
        {
          "output_type": "stream",
          "name": "stdout",
          "text": [
            "Number of null values in the 'Age' column: 177\n",
            "Number of null values in the 'Age' column after dropping: 0\n",
            "\n",
            "Updated DataFrame after processing:\n",
            "                                                Name  Pclass     Sex   Age  \\\n",
            "0                            Braund, Mr. Owen Harris       3    male  22.0   \n",
            "1  Cumings, Mrs. John Bradley (Florence Briggs Th...       1  female  38.0   \n",
            "2                             Heikkinen, Miss. Laina       3  female  26.0   \n",
            "3       Futrelle, Mrs. Jacques Heath (Lily May Peel)       1  female  35.0   \n",
            "4                           Allen, Mr. William Henry       3    male  35.0   \n",
            "\n",
            "      Fare  Survived  Embarked_C  Embarked_Q  Embarked_S  \n",
            "0   7.2500         0       False       False        True  \n",
            "1  71.2833         1        True       False       False  \n",
            "2   7.9250         1       False       False        True  \n",
            "3  53.1000         1       False       False        True  \n",
            "4   8.0500         0       False       False        True  \n",
            "\n",
            "Processed data saved to 'processed_titanic_data.csv'.\n",
            "Mean Survival Rates by Gender:\n",
            "Sex\n",
            "female    0.754789\n",
            "male      0.205298\n",
            "Name: Survived, dtype: float64\n"
          ]
        },
        {
          "output_type": "stream",
          "name": "stderr",
          "text": [
            "<ipython-input-12-94989eeb86c4>:47: FutureWarning: \n",
            "\n",
            "Passing `palette` without assigning `hue` is deprecated and will be removed in v0.14.0. Assign the `x` variable to `hue` and set `legend=False` for the same effect.\n",
            "\n",
            "  sns.barplot(x=mean_survival_rates.index, y=mean_survival_rates.values, palette=\"pastel\")\n"
          ]
        },
        {
          "output_type": "display_data",
          "data": {
            "text/plain": [
              "<Figure size 800x500 with 1 Axes>"
            ],
            "image/png": "[encoded data removed]"
          },
          "metadata": {}
        },
        {
          "output_type": "display_data",
          "data": {
            "text/plain": [
              "<Figure size 1000x600 with 0 Axes>"
            ]
          },
          "metadata": {}
        },
        {
          "output_type": "display_data",
          "data": {
            "text/plain": [
              "<Figure size 902.361x500 with 1 Axes>"
            ],
            "image/png": "[encoded data removed]"
          },
          "metadata": {}
        }
      ]
    }
  ]
}