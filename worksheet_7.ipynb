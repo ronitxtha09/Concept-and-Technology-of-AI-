{
  "nbformat": 4,
  "nbformat_minor": 0,
  "metadata": {
    "colab": {
      "provenance": []
    },
    "kernelspec": {
      "name": "python3",
      "display_name": "Python 3"
    },
    "language_info": {
      "name": "python"
    }
  },
  "cells": [
    {
      "cell_type": "code",
      "execution_count": 1,
      "metadata": {
        "colab": {
          "base_uri": "https://localhost:8080/"
        },
        "id": "9sqaABIOb2r7",
        "outputId": "701d18bd-0efb-4007-9d53-ecdc1a8ced43"
      },
      "outputs": [
        {
          "output_type": "stream",
          "name": "stdout",
          "text": [
            "   Pregnancies  Glucose  BloodPressure  SkinThickness  Insulin   BMI  \\\n",
            "0            6      148             72             35        0  33.6   \n",
            "1            1       85             66             29        0  26.6   \n",
            "2            8      183             64              0        0  23.3   \n",
            "3            1       89             66             23       94  28.1   \n",
            "4            0      137             40             35      168  43.1   \n",
            "\n",
            "   DiabetesPedigreeFunction  Age  Outcome  \n",
            "0                     0.627   50        1  \n",
            "1                     0.351   31        0  \n",
            "2                     0.672   32        1  \n",
            "3                     0.167   21        0  \n",
            "4                     2.288   33        1  \n"
          ]
        }
      ],
      "source": [
        "import pandas as pd\n",
        "\n",
        "# Load the dataset\n",
        "df = pd.read_csv('/content/drive/MyDrive/Concept-and-Technology-of-AI-/diabetes.csv')\n",
        "\n",
        "# Display the first few rows\n",
        "print(df.head())\n"
      ]
    },
    {
      "cell_type": "code",
      "source": [
        "from sklearn.model_selection import train_test_split\n",
        "from sklearn.preprocessing import StandardScaler\n",
        "\n",
        "print(\"Missing values in each column:\\n\",df.isnull().sum())\n",
        "\n",
        "features=['Pregnancies', 'Glucose', 'BloodPressure', 'SkinThickness', 'Insulin', 'BMI', 'DiabetesPedigreeFunction', 'Age']\n",
        "\n",
        "X = df[features]\n",
        "y_regression = df['BloodPressure']  # Target for regression\n",
        "y_classification = df['Outcome']    # Target for classification\n",
        "\n",
        "scaler = StandardScaler()\n",
        "X_scaled = scaler.fit_transform(X)\n",
        "\n",
        "# Split the dataset into training and testing sets\n",
        "X_train_reg, X_test_reg, y_train_reg, y_test_reg = train_test_split(X_scaled, y_regression, test_size=0.2, random_state=42)\n",
        "X_train_cls, X_test_cls, y_train_cls, y_test_cls = train_test_split(X_scaled, y_classification, test_size=0.2, random_state=42)\n"
      ],
      "metadata": {
        "colab": {
          "base_uri": "https://localhost:8080/"
        },
        "id": "R_bKyZU0cqur",
        "outputId": "d8b36902-8803-481f-c0a5-fb4e6f8b5c64"
      },
      "execution_count": 2,
      "outputs": [
        {
          "output_type": "stream",
          "name": "stdout",
          "text": [
            "Missing values in each column:\n",
            " Pregnancies                 0\n",
            "Glucose                     0\n",
            "BloodPressure               0\n",
            "SkinThickness               0\n",
            "Insulin                     0\n",
            "BMI                         0\n",
            "DiabetesPedigreeFunction    0\n",
            "Age                         0\n",
            "Outcome                     0\n",
            "dtype: int64\n"
          ]
        }
      ]
    },
    {
      "cell_type": "code",
      "source": [
        "from sklearn.linear_model import LinearRegression\n",
        "from sklearn.metrics import mean_squared_error, r2_score\n",
        "import numpy as np\n",
        "\n",
        "# Initialize the Linear Regression model\n",
        "reg_model = LinearRegression()\n",
        "\n",
        "# Train the model\n",
        "reg_model.fit(X_train_reg, y_train_reg)\n",
        "\n",
        "# Predict on the test set\n",
        "y_pred_reg = reg_model.predict(X_test_reg)\n",
        "\n",
        "# Evaluate the model\n",
        "mse = mean_squared_error(y_test_reg, y_pred_reg)\n",
        "rmse = np.sqrt(mse)\n",
        "r2 = r2_score(y_test_reg, y_pred_reg)\n",
        "\n",
        "print(\"Regression Model Evaluation:\")\n",
        "print(f\"Mean Squared Error (MSE): {mse:.2f}\")\n",
        "print(f\"Root Mean Squared Error (RMSE): {rmse:.2f}\")\n",
        "print(f\"R² Score: {r2:.2f}\")\n"
      ],
      "metadata": {
        "colab": {
          "base_uri": "https://localhost:8080/"
        },
        "id": "zixd5bPpcv1l",
        "outputId": "ef534038-321b-4db7-fa72-87058cb9b87b"
      },
      "execution_count": 5,
      "outputs": [
        {
          "output_type": "stream",
          "name": "stdout",
          "text": [
            "Regression Model Evaluation:\n",
            "Mean Squared Error (MSE): 0.00\n",
            "Root Mean Squared Error (RMSE): 0.00\n",
            "R² Score: 1.00\n"
          ]
        }
      ]
    },
    {
      "cell_type": "code",
      "source": [
        "from sklearn.linear_model import LogisticRegression\n",
        "from sklearn.neighbors import KNeighborsClassifier\n",
        "from sklearn.metrics import accuracy_score, precision_score, recall_score, f1_score, confusion_matrix\n",
        "\n",
        "# Initialize Logistic Regression and KNN models\n",
        "log_reg_model = LogisticRegression()\n",
        "knn_model = KNeighborsClassifier(n_neighbors=5)  # You can tune 'n_neighbors' for better results\n",
        "\n",
        "# Train Logistic Regression\n",
        "log_reg_model.fit(X_train_cls, y_train_cls)\n",
        "\n",
        "# Train KNN\n",
        "knn_model.fit(X_train_cls, y_train_cls)\n",
        "\n",
        "# Predict on the test set using Logistic Regression\n",
        "y_pred_log_reg = log_reg_model.predict(X_test_cls)\n",
        "\n",
        "# Predict on the test set using KNN\n",
        "y_pred_knn = knn_model.predict(X_test_cls)\n",
        "\n",
        "# Evaluate Logistic Regression model\n",
        "print(\"Logistic Regression Model Evaluation:\")\n",
        "print(f\"Accuracy: {accuracy_score(y_test_cls, y_pred_log_reg):.2f}\")\n",
        "print(f\"Precision: {precision_score(y_test_cls, y_pred_log_reg):.2f}\")\n",
        "print(f\"Recall: {recall_score(y_test_cls, y_pred_log_reg):.2f}\")\n",
        "print(f\"F1 Score: {f1_score(y_test_cls, y_pred_log_reg):.2f}\")\n",
        "print(\"Confusion Matrix:\\n\", confusion_matrix(y_test_cls, y_pred_log_reg))\n",
        "\n",
        "# Evaluate KNN model\n",
        "print(\"\\nKNN Model Evaluation:\")\n",
        "print(f\"Accuracy: {accuracy_score(y_test_cls, y_pred_knn):.2f}\")\n",
        "print(f\"Precision: {precision_score(y_test_cls, y_pred_knn):.2f}\")\n",
        "print(f\"Recall: {recall_score(y_test_cls, y_pred_knn):.2f}\")\n",
        "print(f\"F1 Score: {f1_score(y_test_cls, y_pred_knn):.2f}\")\n",
        "print(\"Confusion Matrix:\\n\", confusion_matrix(y_test_cls, y_pred_knn))\n"
      ],
      "metadata": {
        "colab": {
          "base_uri": "https://localhost:8080/"
        },
        "id": "pmzKa2_vc2Ks",
        "outputId": "c1ccf529-e85d-40df-c0ff-98eef344494c"
      },
      "execution_count": 6,
      "outputs": [
        {
          "output_type": "stream",
          "name": "stdout",
          "text": [
            "Logistic Regression Model Evaluation:\n",
            "Accuracy: 0.75\n",
            "Precision: 0.65\n",
            "Recall: 0.67\n",
            "F1 Score: 0.66\n",
            "Confusion Matrix:\n",
            " [[79 20]\n",
            " [18 37]]\n",
            "\n",
            "KNN Model Evaluation:\n",
            "Accuracy: 0.69\n",
            "Precision: 0.57\n",
            "Recall: 0.49\n",
            "F1 Score: 0.53\n",
            "Confusion Matrix:\n",
            " [[79 20]\n",
            " [28 27]]\n"
          ]
        }
      ]
    }
  ]
}