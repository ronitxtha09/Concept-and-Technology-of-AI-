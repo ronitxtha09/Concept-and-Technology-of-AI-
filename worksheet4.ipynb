{
  "nbformat": 4,
  "nbformat_minor": 0,
  "metadata": {
    "colab": {
      "provenance": []
    },
    "kernelspec": {
      "name": "python3",
      "display_name": "Python 3"
    },
    "language_info": {
      "name": "python"
    }
  },
  "cells": [
    {
      "cell_type": "code",
      "execution_count": 3,
      "metadata": {
        "id": "-13RrtF6doF2"
      },
      "outputs": [],
      "source": [
        "import pandas as pd\n",
        "import numpy as np\n",
        "import matplotlib.pyplot as plt\n",
        "import seaborn as sns"
      ]
    },
    {
      "cell_type": "code",
      "source": [
        "data = pd.read_csv('/content/drive/MyDrive/Concept-and-Technology-of-AI-/diabetes.csv')\n",
        "data.head()"
      ],
      "metadata": {
        "colab": {
          "base_uri": "https://localhost:8080/",
          "height": 226
        },
        "id": "WJ9BKtaWeIsM",
        "outputId": "6b53a9fa-cb6f-4e27-b0bb-ce0ce66f3adb"
      },
      "execution_count": 4,
      "outputs": [
        {
          "output_type": "execute_result",
          "data": {
            "text/plain": [
              "   Pregnancies  Glucose  BloodPressure  SkinThickness  Insulin   BMI  \\\n",
              "0            6      148             72             35        0  33.6   \n",
              "1            1       85             66             29        0  26.6   \n",
              "2            8      183             64              0        0  23.3   \n",
              "3            1       89             66             23       94  28.1   \n",
              "4            0      137             40             35      168  43.1   \n",
              "\n",
              "   DiabetesPedigreeFunction  Age  Outcome  \n",
              "0                     0.627   50        1  \n",
              "1                     0.351   31        0  \n",
              "2                     0.672   32        1  \n",
              "3                     0.167   21        0  \n",
              "4                     2.288   33        1  "
            ],
            "text/html": [
              "\n",
              "  <div id=\"df-9365afd8-d720-4630-ae25-31afb4d071ca\" class=\"colab-df-container\">\n",
              "    <div>\n",
              "<style scoped>\n",
              "    .dataframe tbody tr th:only-of-type {\n",
              "        vertical-align: middle;\n",
              "    }\n",
              "\n",
              "    .dataframe tbody tr th {\n",
              "        vertical-align: top;\n",
              "    }\n",
              "\n",
              "    .dataframe thead th {\n",
              "        text-align: right;\n",
              "    }\n",
              "</style>\n",
              "<table border=\"1\" class=\"dataframe\">\n",
              "  <thead>\n",
              "    <tr style=\"text-align: right;\">\n",
              "      <th></th>\n",
              "      <th>Pregnancies</th>\n",
              "      <th>Glucose</th>\n",
              "      <th>BloodPressure</th>\n",
              "      <th>SkinThickness</th>\n",
              "      <th>Insulin</th>\n",
              "      <th>BMI</th>\n",
              "      <th>DiabetesPedigreeFunction</th>\n",
              "      <th>Age</th>\n",
              "      <th>Outcome</th>\n",
              "    </tr>\n",
              "  </thead>\n",
              "  <tbody>\n",
              "    <tr>\n",
              "      <th>0</th>\n",
              "      <td>6</td>\n",
              "      <td>148</td>\n",
              "      <td>72</td>\n",
              "      <td>35</td>\n",
              "      <td>0</td>\n",
              "      <td>33.6</td>\n",
              "      <td>0.627</td>\n",
              "      <td>50</td>\n",
              "      <td>1</td>\n",
              "    </tr>\n",
              "    <tr>\n",
              "      <th>1</th>\n",
              "      <td>1</td>\n",
              "      <td>85</td>\n",
              "      <td>66</td>\n",
              "      <td>29</td>\n",
              "      <td>0</td>\n",
              "      <td>26.6</td>\n",
              "      <td>0.351</td>\n",
              "      <td>31</td>\n",
              "      <td>0</td>\n",
              "    </tr>\n",
              "    <tr>\n",
              "      <th>2</th>\n",
              "      <td>8</td>\n",
              "      <td>183</td>\n",
              "      <td>64</td>\n",
              "      <td>0</td>\n",
              "      <td>0</td>\n",
              "      <td>23.3</td>\n",
              "      <td>0.672</td>\n",
              "      <td>32</td>\n",
              "      <td>1</td>\n",
              "    </tr>\n",
              "    <tr>\n",
              "      <th>3</th>\n",
              "      <td>1</td>\n",
              "      <td>89</td>\n",
              "      <td>66</td>\n",
              "      <td>23</td>\n",
              "      <td>94</td>\n",
              "      <td>28.1</td>\n",
              "      <td>0.167</td>\n",
              "      <td>21</td>\n",
              "      <td>0</td>\n",
              "    </tr>\n",
              "    <tr>\n",
              "      <th>4</th>\n",
              "      <td>0</td>\n",
              "      <td>137</td>\n",
              "      <td>40</td>\n",
              "      <td>35</td>\n",
              "      <td>168</td>\n",
              "      <td>43.1</td>\n",
              "      <td>2.288</td>\n",
              "      <td>33</td>\n",
              "      <td>1</td>\n",
              "    </tr>\n",
              "  </tbody>\n",
              "</table>\n",
              "</div>\n",
              "    <div class=\"colab-df-buttons\">\n",
              "\n",
              "  <div class=\"colab-df-container\">\n",
              "    <button class=\"colab-df-convert\" onclick=\"convertToInteractive('df-9365afd8-d720-4630-ae25-31afb4d071ca')\"\n",
              "            title=\"Convert this dataframe to an interactive table.\"\n",
              "            style=\"display:none;\">\n",
              "\n",
              "  <svg xmlns=\"http://www.w3.org/2000/svg\" height=\"24px\" viewBox=\"0 -960 960 960\">\n",
              "    <path d=\"M120-120v-720h720v720H120Zm60-500h600v-160H180v160Zm220 220h160v-160H400v160Zm0 220h160v-160H400v160ZM180-400h160v-160H180v160Zm440 0h160v-160H620v160ZM180-180h160v-160H180v160Zm440 0h160v-160H620v160Z\"/>\n",
              "  </svg>\n",
              "    </button>\n",
              "\n",
              "  <style>\n",
              "    .colab-df-container {\n",
              "      display:flex;\n",
              "      gap: 12px;\n",
              "    }\n",
              "\n",
              "    .colab-df-convert {\n",
              "      background-color: #E8F0FE;\n",
              "      border: none;\n",
              "      border-radius: 50%;\n",
              "      cursor: pointer;\n",
              "      display: none;\n",
              "      fill: #1967D2;\n",
              "      height: 32px;\n",
              "      padding: 0 0 0 0;\n",
              "      width: 32px;\n",
              "    }\n",
              "\n",
              "    .colab-df-convert:hover {\n",
              "      background-color: #E2EBFA;\n",
              "      box-shadow: 0px 1px 2px rgba(60, 64, 67, 0.3), 0px 1px 3px 1px rgba(60, 64, 67, 0.15);\n",
              "      fill: #174EA6;\n",
              "    }\n",
              "\n",
              "    .colab-df-buttons div {\n",
              "      margin-bottom: 4px;\n",
              "    }\n",
              "\n",
              "    [theme=dark] .colab-df-convert {\n",
              "      background-color: #3B4455;\n",
              "      fill: #D2E3FC;\n",
              "    }\n",
              "\n",
              "    [theme=dark] .colab-df-convert:hover {\n",
              "      background-color: #434B5C;\n",
              "      box-shadow: 0px 1px 3px 1px rgba(0, 0, 0, 0.15);\n",
              "      filter: drop-shadow(0px 1px 2px rgba(0, 0, 0, 0.3));\n",
              "      fill: #FFFFFF;\n",
              "    }\n",
              "  </style>\n",
              "\n",
              "    <script>\n",
              "      const buttonEl =\n",
              "        document.querySelector('#df-9365afd8-d720-4630-ae25-31afb4d071ca button.colab-df-convert');\n",
              "      buttonEl.style.display =\n",
              "        google.colab.kernel.accessAllowed ? 'block' : 'none';\n",
              "\n",
              "      async function convertToInteractive(key) {\n",
              "        const element = document.querySelector('#df-9365afd8-d720-4630-ae25-31afb4d071ca');\n",
              "        const dataTable =\n",
              "          await google.colab.kernel.invokeFunction('convertToInteractive',\n",
              "                                                    [key], {});\n",
              "        if (!dataTable) return;\n",
              "\n",
              "        const docLinkHtml = 'Like what you see? Visit the ' +\n",
              "          '<a target=\"_blank\" href=https://colab.research.google.com/notebooks/data_table.ipynb>data table notebook</a>'\n",
              "          + ' to learn more about interactive tables.';\n",
              "        element.innerHTML = '';\n",
              "        dataTable['output_type'] = 'display_data';\n",
              "        await google.colab.output.renderOutput(dataTable, element);\n",
              "        const docLink = document.createElement('div');\n",
              "        docLink.innerHTML = docLinkHtml;\n",
              "        element.appendChild(docLink);\n",
              "      }\n",
              "    </script>\n",
              "  </div>\n",
              "\n",
              "\n",
              "<div id=\"df-d0219b2f-b034-4420-a658-a78352523398\">\n",
              "  <button class=\"colab-df-quickchart\" onclick=\"quickchart('df-d0219b2f-b034-4420-a658-a78352523398')\"\n",
              "            title=\"Suggest charts\"\n",
              "            style=\"display:none;\">\n",
              "\n",
              "<svg xmlns=\"http://www.w3.org/2000/svg\" height=\"24px\"viewBox=\"0 0 24 24\"\n",
              "     width=\"24px\">\n",
              "    <g>\n",
              "        <path d=\"M19 3H5c-1.1 0-2 .9-2 2v14c0 1.1.9 2 2 2h14c1.1 0 2-.9 2-2V5c0-1.1-.9-2-2-2zM9 17H7v-7h2v7zm4 0h-2V7h2v10zm4 0h-2v-4h2v4z\"/>\n",
              "    </g>\n",
              "</svg>\n",
              "  </button>\n",
              "\n",
              "<style>\n",
              "  .colab-df-quickchart {\n",
              "      --bg-color: #E8F0FE;\n",
              "      --fill-color: #1967D2;\n",
              "      --hover-bg-color: #E2EBFA;\n",
              "      --hover-fill-color: #174EA6;\n",
              "      --disabled-fill-color: #AAA;\n",
              "      --disabled-bg-color: #DDD;\n",
              "  }\n",
              "\n",
              "  [theme=dark] .colab-df-quickchart {\n",
              "      --bg-color: #3B4455;\n",
              "      --fill-color: #D2E3FC;\n",
              "      --hover-bg-color: #434B5C;\n",
              "      --hover-fill-color: #FFFFFF;\n",
              "      --disabled-bg-color: #3B4455;\n",
              "      --disabled-fill-color: #666;\n",
              "  }\n",
              "\n",
              "  .colab-df-quickchart {\n",
              "    background-color: var(--bg-color);\n",
              "    border: none;\n",
              "    border-radius: 50%;\n",
              "    cursor: pointer;\n",
              "    display: none;\n",
              "    fill: var(--fill-color);\n",
              "    height: 32px;\n",
              "    padding: 0;\n",
              "    width: 32px;\n",
              "  }\n",
              "\n",
              "  .colab-df-quickchart:hover {\n",
              "    background-color: var(--hover-bg-color);\n",
              "    box-shadow: 0 1px 2px rgba(60, 64, 67, 0.3), 0 1px 3px 1px rgba(60, 64, 67, 0.15);\n",
              "    fill: var(--button-hover-fill-color);\n",
              "  }\n",
              "\n",
              "  .colab-df-quickchart-complete:disabled,\n",
              "  .colab-df-quickchart-complete:disabled:hover {\n",
              "    background-color: var(--disabled-bg-color);\n",
              "    fill: var(--disabled-fill-color);\n",
              "    box-shadow: none;\n",
              "  }\n",
              "\n",
              "  .colab-df-spinner {\n",
              "    border: 2px solid var(--fill-color);\n",
              "    border-color: transparent;\n",
              "    border-bottom-color: var(--fill-color);\n",
              "    animation:\n",
              "      spin 1s steps(1) infinite;\n",
              "  }\n",
              "\n",
              "  @keyframes spin {\n",
              "    0% {\n",
              "      border-color: transparent;\n",
              "      border-bottom-color: var(--fill-color);\n",
              "      border-left-color: var(--fill-color);\n",
              "    }\n",
              "    20% {\n",
              "      border-color: transparent;\n",
              "      border-left-color: var(--fill-color);\n",
              "      border-top-color: var(--fill-color);\n",
              "    }\n",
              "    30% {\n",
              "      border-color: transparent;\n",
              "      border-left-color: var(--fill-color);\n",
              "      border-top-color: var(--fill-color);\n",
              "      border-right-color: var(--fill-color);\n",
              "    }\n",
              "    40% {\n",
              "      border-color: transparent;\n",
              "      border-right-color: var(--fill-color);\n",
              "      border-top-color: var(--fill-color);\n",
              "    }\n",
              "    60% {\n",
              "      border-color: transparent;\n",
              "      border-right-color: var(--fill-color);\n",
              "    }\n",
              "    80% {\n",
              "      border-color: transparent;\n",
              "      border-right-color: var(--fill-color);\n",
              "      border-bottom-color: var(--fill-color);\n",
              "    }\n",
              "    90% {\n",
              "      border-color: transparent;\n",
              "      border-bottom-color: var(--fill-color);\n",
              "    }\n",
              "  }\n",
              "</style>\n",
              "\n",
              "  <script>\n",
              "    async function quickchart(key) {\n",
              "      const quickchartButtonEl =\n",
              "        document.querySelector('#' + key + ' button');\n",
              "      quickchartButtonEl.disabled = true;  // To prevent multiple clicks.\n",
              "      quickchartButtonEl.classList.add('colab-df-spinner');\n",
              "      try {\n",
              "        const charts = await google.colab.kernel.invokeFunction(\n",
              "            'suggestCharts', [key], {});\n",
              "      } catch (error) {\n",
              "        console.error('Error during call to suggestCharts:', error);\n",
              "      }\n",
              "      quickchartButtonEl.classList.remove('colab-df-spinner');\n",
              "      quickchartButtonEl.classList.add('colab-df-quickchart-complete');\n",
              "    }\n",
              "    (() => {\n",
              "      let quickchartButtonEl =\n",
              "        document.querySelector('#df-d0219b2f-b034-4420-a658-a78352523398 button');\n",
              "      quickchartButtonEl.style.display =\n",
              "        google.colab.kernel.accessAllowed ? 'block' : 'none';\n",
              "    })();\n",
              "  </script>\n",
              "</div>\n",
              "\n",
              "    </div>\n",
              "  </div>\n"
            ],
            "application/vnd.google.colaboratory.intrinsic+json": {
              "type": "dataframe",
              "variable_name": "data",
              "summary": "{\n  \"name\": \"data\",\n  \"rows\": 768,\n  \"fields\": [\n    {\n      \"column\": \"Pregnancies\",\n      \"properties\": {\n        \"dtype\": \"number\",\n        \"std\": 3,\n        \"min\": 0,\n        \"max\": 17,\n        \"num_unique_values\": 17,\n        \"samples\": [\n          6,\n          1,\n          3\n        ],\n        \"semantic_type\": \"\",\n        \"description\": \"\"\n      }\n    },\n    {\n      \"column\": \"Glucose\",\n      \"properties\": {\n        \"dtype\": \"number\",\n        \"std\": 31,\n        \"min\": 0,\n        \"max\": 199,\n        \"num_unique_values\": 136,\n        \"samples\": [\n          151,\n          101,\n          112\n        ],\n        \"semantic_type\": \"\",\n        \"description\": \"\"\n      }\n    },\n    {\n      \"column\": \"BloodPressure\",\n      \"properties\": {\n        \"dtype\": \"number\",\n        \"std\": 19,\n        \"min\": 0,\n        \"max\": 122,\n        \"num_unique_values\": 47,\n        \"samples\": [\n          86,\n          46,\n          85\n        ],\n        \"semantic_type\": \"\",\n        \"description\": \"\"\n      }\n    },\n    {\n      \"column\": \"SkinThickness\",\n      \"properties\": {\n        \"dtype\": \"number\",\n        \"std\": 15,\n        \"min\": 0,\n        \"max\": 99,\n        \"num_unique_values\": 51,\n        \"samples\": [\n          7,\n          12,\n          48\n        ],\n        \"semantic_type\": \"\",\n        \"description\": \"\"\n      }\n    },\n    {\n      \"column\": \"Insulin\",\n      \"properties\": {\n        \"dtype\": \"number\",\n        \"std\": 115,\n        \"min\": 0,\n        \"max\": 846,\n        \"num_unique_values\": 186,\n        \"samples\": [\n          52,\n          41,\n          183\n        ],\n        \"semantic_type\": \"\",\n        \"description\": \"\"\n      }\n    },\n    {\n      \"column\": \"BMI\",\n      \"properties\": {\n        \"dtype\": \"number\",\n        \"std\": 7.8841603203754405,\n        \"min\": 0.0,\n        \"max\": 67.1,\n        \"num_unique_values\": 248,\n        \"samples\": [\n          19.9,\n          31.0,\n          38.1\n        ],\n        \"semantic_type\": \"\",\n        \"description\": \"\"\n      }\n    },\n    {\n      \"column\": \"DiabetesPedigreeFunction\",\n      \"properties\": {\n        \"dtype\": \"number\",\n        \"std\": 0.33132859501277484,\n        \"min\": 0.078,\n        \"max\": 2.42,\n        \"num_unique_values\": 517,\n        \"samples\": [\n          1.731,\n          0.426,\n          0.138\n        ],\n        \"semantic_type\": \"\",\n        \"description\": \"\"\n      }\n    },\n    {\n      \"column\": \"Age\",\n      \"properties\": {\n        \"dtype\": \"number\",\n        \"std\": 11,\n        \"min\": 21,\n        \"max\": 81,\n        \"num_unique_values\": 52,\n        \"samples\": [\n          60,\n          47,\n          72\n        ],\n        \"semantic_type\": \"\",\n        \"description\": \"\"\n      }\n    },\n    {\n      \"column\": \"Outcome\",\n      \"properties\": {\n        \"dtype\": \"number\",\n        \"std\": 0,\n        \"min\": 0,\n        \"max\": 1,\n        \"num_unique_values\": 2,\n        \"samples\": [\n          0,\n          1\n        ],\n        \"semantic_type\": \"\",\n        \"description\": \"\"\n      }\n    }\n  ]\n}"
            }
          },
          "metadata": {},
          "execution_count": 4
        }
      ]
    },
    {
      "cell_type": "code",
      "source": [
        "from google.colab import drive\n",
        "drive.mount('/content/drive')"
      ],
      "metadata": {
        "colab": {
          "base_uri": "https://localhost:8080/"
        },
        "id": "Hr_sB3GkrxYP",
        "outputId": "bc7377c6-f7e6-465d-e1d0-522073c1c2c4"
      },
      "execution_count": 1,
      "outputs": [
        {
          "output_type": "stream",
          "name": "stdout",
          "text": [
            "Mounted at /content/drive\n"
          ]
        }
      ]
    },
    {
      "cell_type": "markdown",
      "source": [
        "## EDA"
      ],
      "metadata": {
        "id": "TdkrtM9ej1Ix"
      }
    },
    {
      "cell_type": "code",
      "source": [
        "print(\"\\nData Types:\")\n",
        "print(data.dtypes)"
      ],
      "metadata": {
        "colab": {
          "base_uri": "https://localhost:8080/"
        },
        "id": "x0ydazaBedce",
        "outputId": "bd388848-f5e8-4614-f0f3-7e8b5e2cddf0"
      },
      "execution_count": null,
      "outputs": [
        {
          "output_type": "stream",
          "name": "stdout",
          "text": [
            "\n",
            "Data Types:\n",
            "Pregnancies                   int64\n",
            "Glucose                       int64\n",
            "BloodPressure                 int64\n",
            "SkinThickness                 int64\n",
            "Insulin                       int64\n",
            "BMI                         float64\n",
            "DiabetesPedigreeFunction    float64\n",
            "Age                           int64\n",
            "Outcome                       int64\n",
            "dtype: object\n"
          ]
        }
      ]
    },
    {
      "cell_type": "code",
      "source": [
        "# Check for missing values in each column.\n",
        "missing_info = data.isnull().sum()\n",
        "\n",
        "for column in data.columns:\n",
        "    if missing_info[column] > 10:\n",
        "        data[column].fillna(data[column].mean(), inplace=True)\n",
        "    else:\n",
        "        data.dropna(subset=[column], inplace=True)\n",
        "\n",
        "print(\"Data after processing:\\n\", data.head())\n",
        "print(\"\\nMissing values after processing:\\n\", data.isnull().sum())"
      ],
      "metadata": {
        "colab": {
          "base_uri": "https://localhost:8080/"
        },
        "id": "PGA_NDjOfGAi",
        "outputId": "5a946002-97cc-4ef7-b7f8-c42eab37d2c0"
      },
      "execution_count": 7,
      "outputs": [
        {
          "output_type": "stream",
          "name": "stdout",
          "text": [
            "Data after processing:\n",
            "    Pregnancies  Glucose  BloodPressure  SkinThickness  Insulin   BMI  \\\n",
            "0            6      148             72             35        0  33.6   \n",
            "1            1       85             66             29        0  26.6   \n",
            "2            8      183             64              0        0  23.3   \n",
            "3            1       89             66             23       94  28.1   \n",
            "4            0      137             40             35      168  43.1   \n",
            "\n",
            "   DiabetesPedigreeFunction  Age  Outcome  \n",
            "0                     0.627   50        1  \n",
            "1                     0.351   31        0  \n",
            "2                     0.672   32        1  \n",
            "3                     0.167   21        0  \n",
            "4                     2.288   33        1  \n",
            "\n",
            "Missing values after processing:\n",
            " Pregnancies                 0\n",
            "Glucose                     0\n",
            "BloodPressure               0\n",
            "SkinThickness               0\n",
            "Insulin                     0\n",
            "BMI                         0\n",
            "DiabetesPedigreeFunction    0\n",
            "Age                         0\n",
            "Outcome                     0\n",
            "dtype: int64\n"
          ]
        }
      ]
    },
    {
      "cell_type": "code",
      "source": [
        "# Summary statistics for numerical columns.\n",
        "print(\"\\nSummary Statistics:\")\n",
        "print(data.describe())"
      ],
      "metadata": {
        "colab": {
          "base_uri": "https://localhost:8080/"
        },
        "id": "ucsuhxK1fPfZ",
        "outputId": "b9e2daa9-5085-445b-8317-3bb74d815d55"
      },
      "execution_count": 8,
      "outputs": [
        {
          "output_type": "stream",
          "name": "stdout",
          "text": [
            "\n",
            "Summary Statistics:\n",
            "       Pregnancies     Glucose  BloodPressure  SkinThickness     Insulin  \\\n",
            "count   768.000000  768.000000     768.000000     768.000000  768.000000   \n",
            "mean      3.845052  120.894531      69.105469      20.536458   79.799479   \n",
            "std       3.369578   31.972618      19.355807      15.952218  115.244002   \n",
            "min       0.000000    0.000000       0.000000       0.000000    0.000000   \n",
            "25%       1.000000   99.000000      62.000000       0.000000    0.000000   \n",
            "50%       3.000000  117.000000      72.000000      23.000000   30.500000   \n",
            "75%       6.000000  140.250000      80.000000      32.000000  127.250000   \n",
            "max      17.000000  199.000000     122.000000      99.000000  846.000000   \n",
            "\n",
            "              BMI  DiabetesPedigreeFunction         Age     Outcome  \n",
            "count  768.000000                768.000000  768.000000  768.000000  \n",
            "mean    31.992578                  0.471876   33.240885    0.348958  \n",
            "std      7.884160                  0.331329   11.760232    0.476951  \n",
            "min      0.000000                  0.078000   21.000000    0.000000  \n",
            "25%     27.300000                  0.243750   24.000000    0.000000  \n",
            "50%     32.000000                  0.372500   29.000000    0.000000  \n",
            "75%     36.600000                  0.626250   41.000000    1.000000  \n",
            "max     67.100000                  2.420000   81.000000    1.000000  \n"
          ]
        }
      ]
    },
    {
      "cell_type": "code",
      "source": [
        "# Build Box plots within appropriate columns\n",
        "# Creating a box plot for 'Pregnancies' and 'Glucose'\n",
        "plt.figure(figsize=(10, 6))\n",
        "sns.boxplot(data=data[['Pregnancies', 'Glucose']])\n",
        "plt.title(\"Box Plot for Pregnancies and Glucose\")\n",
        "plt.ylabel(\"Values\")\n",
        "plt.xlabel(\"Features\")\n",
        "plt.show()"
      ],
      "metadata": {
        "id": "hStKiZntjJvb",
        "colab": {
          "base_uri": "https://localhost:8080/",
          "height": 432
        },
        "outputId": "77ec147e-d412-4a54-b9af-cea9266e9ba6"
      },
      "execution_count": 10,
      "outputs": [
        {
          "output_type": "display_data",
          "data": {
            "text/plain": [
              "<Figure size 1000x600 with 1 Axes>"
            ],
            "image/png": "[encoded data removed]"
          },
          "metadata": {}
        }
      ]
    },
    {
      "cell_type": "code",
      "source": [
        "# Build Histograms  appropriate columns\n",
        "# Creating a Histogram for 'Pregnancies' and 'Glucose'\n",
        "# Histogram for Pregnancies\n",
        "plt.subplot(1, 2, 1)\n",
        "sns.histplot(data['Pregnancies'], bins=15, kde=True, color='blue')\n",
        "plt.title('Histogram of Pregnancies')\n",
        "plt.xlabel('Pregnancies')\n",
        "plt.ylabel('Frequency')\n",
        "\n",
        "# Histogram for Glucose\n",
        "plt.subplot(1, 2, 2)\n",
        "sns.histplot(data['Glucose'], bins=15, kde=True, color='green')\n",
        "plt.title('Histogram of Glucose')\n",
        "plt.xlabel('Glucose')\n",
        "plt.ylabel('Frequency')\n",
        "\n",
        "plt.tight_layout()\n",
        "plt.show()"
      ],
      "metadata": {
        "id": "faRe8dD6jJyC",
        "colab": {
          "base_uri": "https://localhost:8080/",
          "height": 487
        },
        "outputId": "dda57954-ea5f-4a63-a7d9-375c2e9a39fe"
      },
      "execution_count": 13,
      "outputs": [
        {
          "output_type": "display_data",
          "data": {
            "text/plain": [
              "<Figure size 640x480 with 2 Axes>"
            ],
            "image/png": "[encoded data removed]"
          },
          "metadata": {}
        }
      ]
    },
    {
      "cell_type": "code",
      "source": [
        "# Build Heatmaps for appropriate columns\n",
        "# Select the columns of interest\n",
        "columns_of_interest = ['Pregnancies', 'Glucose']\n",
        "heatmap_data = data[columns_of_interest]\n",
        "\n",
        "# Compute the correlation matrix\n",
        "correlation_matrix = heatmap_data.corr()\n",
        "\n",
        "# Create the heatmap\n",
        "plt.figure(figsize=(8, 6))\n",
        "sns.heatmap(correlation_matrix, annot=True, cmap='coolwarm', fmt='.2f', cbar=True)\n",
        "\n",
        "plt.title('Correlation Heatmap for Pregnancies and Glucose')\n",
        "plt.show()"
      ],
      "metadata": {
        "id": "tWax9QxCjJ0Z",
        "colab": {
          "base_uri": "https://localhost:8080/",
          "height": 545
        },
        "outputId": "235a2981-0133-40f8-dc85-161eb3afad97"
      },
      "execution_count": 15,
      "outputs": [
        {
          "output_type": "display_data",
          "data": {
            "text/plain": [
              "<Figure size 800x600 with 2 Axes>"
            ],
            "image/png": "[encoded data removed]"
          },
          "metadata": {}
        }
      ]
    },
    {
      "cell_type": "markdown",
      "source": [
        "## Feature Selection"
      ],
      "metadata": {
        "id": "oxdWf26Ijvv5"
      }
    },
    {
      "cell_type": "code",
      "source": [
        "X = data.drop(columns=['Outcome']).values\n",
        "y = data['Outcome'].values"
      ],
      "metadata": {
        "id": "qUDMESpugV0G"
      },
      "execution_count": 16,
      "outputs": []
    },
    {
      "cell_type": "code",
      "source": [
        "def train_test_split_scratch(X, y, test_size=0.3, random_seed=42):\n",
        "    \"\"\"\n",
        "    Splits dataset into train and test sets.\n",
        "\n",
        "    Arguments:\n",
        "    X : np.ndarray\n",
        "        Feature matrix.\n",
        "    y : np.ndarray\n",
        "        Target array.\n",
        "    test_size : float\n",
        "        Proportion of the dataset to include in the test split (0 < test_size < 1).\n",
        "    random_seed : int\n",
        "        Seed for reproducibility.\n",
        "\n",
        "    Returns:\n",
        "    X_train, X_test, y_train, y_test : np.ndarray\n",
        "        Training and testing splits of features and target.\n",
        "    \"\"\"\n",
        "    np.random.seed(random_seed)\n",
        "    indices = np.arange(X.shape[0])\n",
        "    np.random.shuffle(indices)  # Shuffle the indices\n",
        "\n",
        "    test_split_size = int(len(X) * test_size)\n",
        "    test_indices = indices[:test_split_size]\n",
        "    train_indices = indices[test_split_size:]\n",
        "\n",
        "    #X_train, X_test = complete code\n",
        "    #y_train, y_test = complete code\n",
        "\n",
        "    return X_train, X_test, y_train, y_test\n",
        "\n",
        "\n",
        "X_train, X_test, y_train, y_test = train_test_split_scratch(X, y, test_size=0.3)\n",
        "\n",
        "\n",
        "print(\"Shape of X_train:\", X_train.shape)\n",
        "print(\"Shape of X_test:\", X_test.shape)\n",
        "print(\"Shape of y_train:\", y_train.shape)\n",
        "print(\"Shape of y_test:\", y_test.shape)\n"
      ],
      "metadata": {
        "colab": {
          "base_uri": "https://localhost:8080/"
        },
        "id": "hjLS_Ec4ftcS",
        "outputId": "474df735-d0f6-4581-bf32-9c79fa0dd4ea"
      },
      "execution_count": 20,
      "outputs": [
        {
          "output_type": "stream",
          "name": "stdout",
          "text": [
            "Shape of X_train: (538, 8)\n",
            "Shape of X_test: (230, 8)\n",
            "Shape of y_train: (538,)\n",
            "Shape of y_test: (230,)\n"
          ]
        }
      ]
    },
    {
      "cell_type": "code",
      "source": [
        "def euclidean_distance(point1, point2):\n",
        "    \"\"\"\n",
        "    Calculate the Euclidean distance between two points in n-dimensional space.\n",
        "\n",
        "    Arguments:\n",
        "    point1 : np.ndarray\n",
        "        The first point as a numpy array.\n",
        "    point2 : np.ndarray\n",
        "        The second point as a numpy array.\n",
        "\n",
        "    Returns:\n",
        "    float\n",
        "        The Euclidean distance between the two points.\n",
        "\n",
        "    Raises:\n",
        "    ValueError: If the input points do not have the same dimensionality.\n",
        "    \"\"\"\n",
        "\n",
        "    if point1.shape != point2.shape:\n",
        "        raise ValueError(\"Points must have the same dimensions to calculate Euclidean distance.\")\n",
        "\n",
        "\n",
        "    distance = np.sqrt(np.sum((point1 - point2) ** 2))\n",
        "    return distance\n"
      ],
      "metadata": {
        "id": "sp7XqA1Bftey"
      },
      "execution_count": 23,
      "outputs": []
    },
    {
      "cell_type": "code",
      "source": [
        "try:\n",
        "\n",
        "    point1 = np.array([3, 4])\n",
        "    point2 = np.array([0, 0])\n",
        "\n",
        "\n",
        "    result = euclidean_distance(point1, point2)\n",
        "\n",
        "\n",
        "    expected_result = 5.0\n",
        "    assert np.isclose(result, expected_result), f\"Expected {expected_result}, but got {result}\"\n",
        "\n",
        "    print(\"Test passed successfully!\")\n",
        "except ValueError as ve:\n",
        "    print(f\"ValueError: {ve}\")\n",
        "except AssertionError as ae:\n",
        "    print(f\"AssertionError: {ae}\")\n",
        "except Exception as e:\n",
        "    print(f\"An unexpected error occurred: {e}\")\n"
      ],
      "metadata": {
        "colab": {
          "base_uri": "https://localhost:8080/"
        },
        "id": "449IgyAnfthE",
        "outputId": "54f976f6-a642-42a1-95af-d3b7e6e5e9a4"
      },
      "execution_count": 24,
      "outputs": [
        {
          "output_type": "stream",
          "name": "stdout",
          "text": [
            "Test passed successfully!\n"
          ]
        }
      ]
    },
    {
      "cell_type": "code",
      "source": [
        "def knn_predict_single(query, X_train, y_train, k=3):\n",
        "    \"\"\"\n",
        "    Predict the class label for a single query using the K-nearest neighbors algorithm.\n",
        "\n",
        "    Arguments:\n",
        "    query : np.ndarray\n",
        "        The query point for which the prediction is to be made.\n",
        "    X_train : np.ndarray\n",
        "        The training feature matrix.\n",
        "    y_train : np.ndarray\n",
        "        The training labels.\n",
        "    k : int, optional\n",
        "        The number of nearest neighbors to consider (default is 3).\n",
        "\n",
        "    Returns:\n",
        "    int\n",
        "        The predicted class label for the query.\n",
        "    \"\"\"\n",
        "\n",
        "    distances = [euclidean_distance(query, x) for x in X_train]\n",
        "\n",
        "\n",
        "    sorted_indices = np.argsort(distances)\n",
        "\n",
        "\n",
        "    nearest_indices = sorted_indices[:k]\n",
        "\n",
        "\n",
        "    nearest_labels = y_train[nearest_indices]\n",
        "\n",
        "\n",
        "    prediction = np.bincount(nearest_labels).argmax()\n",
        "\n",
        "    return prediction\n"
      ],
      "metadata": {
        "id": "yR49Ei_vftjV"
      },
      "execution_count": 25,
      "outputs": []
    },
    {
      "cell_type": "code",
      "source": [
        "def knn_predict(X_test, X_train, y_train, k=3):\n",
        "    \"\"\"\n",
        "    Predict the class labels for all test samples using the K-nearest neighbors algorithm.\n",
        "\n",
        "    Arguments:\n",
        "    X_test : np.ndarray\n",
        "        The test feature matrix.\n",
        "    X_train : np.ndarray\n",
        "        The training feature matrix.\n",
        "    y_train : np.ndarray\n",
        "        The training labels.\n",
        "    k : int, optional\n",
        "        The number of nearest neighbors to consider (default is 3).\n",
        "\n",
        "    Returns:\n",
        "    np.ndarray\n",
        "        An array of predicted class labels for the test samples.\n",
        "    \"\"\"\n",
        "\n",
        "    predictions = [knn_predict_single(x, X_train, y_train, k) for x in X_test]\n",
        "    return np.array(predictions)\n"
      ],
      "metadata": {
        "id": "CY7S46bXftly"
      },
      "execution_count": 26,
      "outputs": []
    },
    {
      "cell_type": "code",
      "source": [
        "\n",
        "\n",
        "try:\n",
        "\n",
        "    X_test_sample = X_test[:5]\n",
        "    y_test_sample = y_test[:5]\n",
        "\n",
        "\n",
        "    predictions = knn_predict(X_test_sample, X_train, y_train, k = 3)\n",
        "\n",
        "\n",
        "    print(\"Predictions:\", predictions)\n",
        "    print(\"Actual labels:\", y_test_sample)\n",
        "\n",
        "\n",
        "    assert predictions.shape == y_test_sample.shape, (\n",
        "        \"The shape of predictions does not match the shape of the actual labels.\"\n",
        "    )\n",
        "\n",
        "    print(\"Test case passed successfully!\")\n",
        "except AssertionError as ae:\n",
        "    print(f\"AssertionError: {ae}\")\n",
        "except Exception as e:\n",
        "    print(f\"An unexpected error occurred: {e}\")\n"
      ],
      "metadata": {
        "colab": {
          "base_uri": "https://localhost:8080/"
        },
        "id": "IQtXBuT5ftoD",
        "outputId": "9604e72d-4be5-4561-8ab0-b93533809d76"
      },
      "execution_count": 28,
      "outputs": [
        {
          "output_type": "stream",
          "name": "stdout",
          "text": [
            "Predictions: [0 1 0 1 1]\n",
            "Actual labels: [0 0 0 0 0]\n",
            "Test case passed successfully!\n"
          ]
        }
      ]
    },
    {
      "cell_type": "code",
      "source": [
        "def compute_accuracy(y_true, y_pred):\n",
        "    \"\"\"\n",
        "    Compute the accuracy of predictions.\n",
        "\n",
        "    Arguments:\n",
        "    y_true : np.ndarray\n",
        "        The true labels.\n",
        "    y_pred : np.ndarray\n",
        "        The predicted labels.\n",
        "\n",
        "    Returns:\n",
        "    float\n",
        "        The accuracy as a percentage (0 to 100).\n",
        "    \"\"\"\n",
        "    correct_predictions = np.sum(y_true == y_pred)\n",
        "    total_predictions = len(y_true)\n",
        "    accuracy = (correct_predictions / total_predictions) * 100\n",
        "    return accuracy\n",
        "\n",
        "\n",
        "\n",
        "try:\n",
        "\n",
        "    predictions = knn_predict(X_test, X_train, y_train, k=3)\n",
        "\n",
        "\n",
        "    accuracy = compute_accuracy(y_test, predictions)\n",
        "\n",
        "\n",
        "    print(f\"Accuracy of the KNN model on the test set: {accuracy:.2f}%\")\n",
        "except Exception as e:\n",
        "    print(f\"An unexpected error occurred during prediction or accuracy computation: {e}\")\n"
      ],
      "metadata": {
        "colab": {
          "base_uri": "https://localhost:8080/"
        },
        "id": "51Br-fJrftqZ",
        "outputId": "16a5449c-bd2e-4fcb-f563-fde77de9f2ab"
      },
      "execution_count": 29,
      "outputs": [
        {
          "output_type": "stream",
          "name": "stdout",
          "text": [
            "Accuracy of the KNN model on the test set: 67.39%\n"
          ]
        }
      ]
    },
    {
      "cell_type": "code",
      "source": [
        "import matplotlib.pyplot as plt\n",
        "def experiment_knn_k_values(X_train, y_train, X_test, y_test, k_values):\n",
        "    \"\"\"\n",
        "    Run KNN predictions for different values of k and plot the accuracies.\n",
        "\n",
        "    Arguments:\n",
        "    X_train : np.ndarray\n",
        "        The training feature matrix.\n",
        "    y_train : np.ndarray\n",
        "        The training labels.\n",
        "    X_test : np.ndarray\n",
        "        The test feature matrix.\n",
        "    y_test : np.ndarray\n",
        "        The test labels.\n",
        "    k_values : list of int\n",
        "        A list of k values to experiment with.\n",
        "\n",
        "    Returns:\n",
        "    dict\n",
        "        A dictionary with k values as keys and their corresponding accuracies as values.\n",
        "    \"\"\"\n",
        "    accuracies = {}\n",
        "\n",
        "    for k in k_values:\n",
        "\n",
        "        predictions = knn_predict(X_test, X_train, y_train, k=k)\n",
        "\n",
        "\n",
        "        accuracy = compute_accuracy(y_test, predictions)\n",
        "        accuracies[k] = accuracy\n",
        "\n",
        "        print(f\"Accuracy for k={k}: {accuracy:.2f}%\")\n",
        "\n",
        "\n",
        "    plt.figure(figsize=(10, 5))\n",
        "    plt.plot(k_values, list(accuracies.values()), marker='o')\n",
        "    plt.xlabel('k (Number of Neighbors)')\n",
        "    plt.ylabel('Accuracy (%)')\n",
        "    plt.title('Accuracy of KNN with Different Values of k')\n",
        "    plt.grid(True)\n",
        "    plt.show()\n",
        "\n",
        "    return accuracies\n",
        "\n",
        "\n",
        "k_values = range(1, 21)\n",
        "\n",
        "\n",
        "try:\n",
        "    accuracies = experiment_knn_k_values(X_train, y_train, X_test, y_test, k_values)\n",
        "    print(\"Experiment completed. Check the plot for the accuracy trend.\")\n",
        "except Exception as e:\n",
        "    print(f\"An unexpected error occurred during the experiment: {e}\")\n"
      ],
      "metadata": {
        "colab": {
          "base_uri": "https://localhost:8080/",
          "height": 741
        },
        "id": "0VlgZ6f-ftt1",
        "outputId": "8b105352-56f0-44c0-b42f-b1545048ca25"
      },
      "execution_count": 30,
      "outputs": [
        {
          "output_type": "stream",
          "name": "stdout",
          "text": [
            "Accuracy for k=1: 68.70%\n",
            "Accuracy for k=2: 72.61%\n",
            "Accuracy for k=3: 67.39%\n",
            "Accuracy for k=4: 72.17%\n",
            "Accuracy for k=5: 68.70%\n",
            "Accuracy for k=6: 70.00%\n",
            "Accuracy for k=7: 69.13%\n",
            "Accuracy for k=8: 71.30%\n",
            "Accuracy for k=9: 70.00%\n",
            "Accuracy for k=10: 71.74%\n",
            "Accuracy for k=11: 73.04%\n",
            "Accuracy for k=12: 73.91%\n",
            "Accuracy for k=13: 74.35%\n",
            "Accuracy for k=14: 72.61%\n",
            "Accuracy for k=15: 73.91%\n",
            "Accuracy for k=16: 73.48%\n",
            "Accuracy for k=17: 72.61%\n",
            "Accuracy for k=18: 71.30%\n",
            "Accuracy for k=19: 72.17%\n",
            "Accuracy for k=20: 70.87%\n"
          ]
        },
        {
          "output_type": "display_data",
          "data": {
            "text/plain": [
              "<Figure size 1000x500 with 1 Axes>"
            ],
            "image/png": "[encoded data removed]"
          },
          "metadata": {}
        },
        {
          "output_type": "stream",
          "name": "stdout",
          "text": [
            "Experiment completed. Check the plot for the accuracy trend.\n"
          ]
        }
      ]
    },
    {
      "cell_type": "code",
      "source": [],
      "metadata": {
        "id": "ijBP1lLMhhuP"
      },
      "execution_count": null,
      "outputs": []
    }
  ]
}