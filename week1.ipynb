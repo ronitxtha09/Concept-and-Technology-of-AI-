{
  "nbformat": 4,
  "nbformat_minor": 0,
  "metadata": {
    "colab": {
      "provenance": []
    },
    "kernelspec": {
      "name": "python3",
      "display_name": "Python 3"
    },
    "language_info": {
      "name": "python"
    }
  },
  "cells": [
    {
      "cell_type": "markdown",
      "source": [
        "PROBLEM 1\n",
        "\n",
        "1. Initialize an empty array with size 2X2."
      ],
      "metadata": {
        "id": "EzQehUyPU0Vn"
      }
    },
    {
      "cell_type": "code",
      "source": [
        "import numpy as np\n",
        "a = np.empty((2, 2))\n",
        "print(a)"
      ],
      "metadata": {
        "colab": {
          "base_uri": "https://localhost:8080/"
        },
        "id": "D6mggfy_U3iD",
        "outputId": "d1e32828-da0e-49f8-b612-0afd4c4a77f8"
      },
      "execution_count": null,
      "outputs": [
        {
          "output_type": "stream",
          "name": "stdout",
          "text": [
            "[[4.77781646e-310 0.00000000e+000]\n",
            " [3.60286887e+252 5.64531613e-311]]\n"
          ]
        }
      ]
    },
    {
      "cell_type": "markdown",
      "source": [
        "2. Initialize an all one array with size 4X2."
      ],
      "metadata": {
        "id": "MnzT4ZTsVI0D"
      }
    },
    {
      "cell_type": "code",
      "source": [
        "b = np.ones((4, 2))\n",
        "b"
      ],
      "metadata": {
        "colab": {
          "base_uri": "https://localhost:8080/"
        },
        "id": "ZmywIvHKVMCM",
        "outputId": "fb2f1d43-0a71-4278-f74e-4646510c8f22"
      },
      "execution_count": null,
      "outputs": [
        {
          "output_type": "execute_result",
          "data": {
            "text/plain": [
              "array([[1., 1.],\n",
              "       [1., 1.],\n",
              "       [1., 1.],\n",
              "       [1., 1.]])"
            ]
          },
          "metadata": {},
          "execution_count": 4
        }
      ]
    },
    {
      "cell_type": "markdown",
      "source": [
        "3. Return a new array of given shape and type, filled with fill value.{Hint: np.full}"
      ],
      "metadata": {
        "id": "1IpJ-iZgWQSo"
      }
    },
    {
      "cell_type": "code",
      "source": [
        "c = np.full((3,3), 8)\n",
        "print(c)"
      ],
      "metadata": {
        "colab": {
          "base_uri": "https://localhost:8080/"
        },
        "id": "nccMrL_YWWjg",
        "outputId": "633b23bc-a348-4d66-f9af-bd0c2487611a"
      },
      "execution_count": null,
      "outputs": [
        {
          "output_type": "stream",
          "name": "stdout",
          "text": [
            "[[8 8 8]\n",
            " [8 8 8]\n",
            " [8 8 8]]\n"
          ]
        }
      ]
    },
    {
      "cell_type": "markdown",
      "source": [
        "4. Return a new array of zeros with same shape and type as a given array.{Hint: np.zeros like}"
      ],
      "metadata": {
        "id": "YIEEgotMXGN0"
      }
    },
    {
      "cell_type": "code",
      "source": [
        "array1 = np.array([[1,2,3],[4,5,6]])\n",
        "array2 = np.zeros_like(array1)\n",
        "print(array2)"
      ],
      "metadata": {
        "colab": {
          "base_uri": "https://localhost:8080/"
        },
        "id": "yl7E_x6mXIge",
        "outputId": "111400f6-0392-42da-83d1-ab0f04927041"
      },
      "execution_count": null,
      "outputs": [
        {
          "output_type": "stream",
          "name": "stdout",
          "text": [
            "[[0 0 0]\n",
            " [0 0 0]]\n"
          ]
        }
      ]
    },
    {
      "cell_type": "markdown",
      "source": [
        "5. Return a new array of ones with same shape and type as a given array.{Hint: np.ones like}"
      ],
      "metadata": {
        "id": "bGT-o6LJYXhl"
      }
    },
    {
      "cell_type": "code",
      "source": [
        "array1 = np.array([[2,3],[4,5]])\n",
        "array2 = np.ones_like(array1)\n",
        "print(array2)"
      ],
      "metadata": {
        "colab": {
          "base_uri": "https://localhost:8080/"
        },
        "id": "YivpKilwYZai",
        "outputId": "e5f8e10a-1424-49d1-9866-ceef9258bf82"
      },
      "execution_count": null,
      "outputs": [
        {
          "output_type": "stream",
          "name": "stdout",
          "text": [
            "[[1 1]\n",
            " [1 1]]\n"
          ]
        }
      ]
    },
    {
      "cell_type": "markdown",
      "source": [
        "6. For an existing list new_list = [1,2,3,4] convert to an numpy array.{Hint: np.array()}"
      ],
      "metadata": {
        "id": "1_X4jv-JZaJ5"
      }
    },
    {
      "cell_type": "code",
      "source": [
        "new_list = [1,2,3,4]\n",
        "array1 = np.array(new_list)\n",
        "print(array1)"
      ],
      "metadata": {
        "colab": {
          "base_uri": "https://localhost:8080/"
        },
        "id": "sy2gDLMyZcQP",
        "outputId": "14fc27b2-5469-45ec-b7fd-57c6684744c0"
      },
      "execution_count": null,
      "outputs": [
        {
          "output_type": "stream",
          "name": "stdout",
          "text": [
            "[1 2 3 4]\n"
          ]
        }
      ]
    },
    {
      "cell_type": "markdown",
      "source": [
        "PROBLEM 2\n",
        "\n",
        "1.Create an array with values ranging from 10 to 49. {Hint:np.arrange()}."
      ],
      "metadata": {
        "id": "Mkg2rEsaaUp9"
      }
    },
    {
      "cell_type": "code",
      "source": [
        "array = np.arange(10, 50)\n",
        "print(array)"
      ],
      "metadata": {
        "colab": {
          "base_uri": "https://localhost:8080/"
        },
        "id": "h94IKetybAfa",
        "outputId": "e41c61ed-f843-4e00-dc56-7ca5ad41913b"
      },
      "execution_count": null,
      "outputs": [
        {
          "output_type": "stream",
          "name": "stdout",
          "text": [
            "[10 11 12 13 14 15 16 17 18 19 20 21 22 23 24 25 26 27 28 29 30 31 32 33\n",
            " 34 35 36 37 38 39 40 41 42 43 44 45 46 47 48 49]\n"
          ]
        }
      ]
    },
    {
      "cell_type": "markdown",
      "source": [
        "2.Create a 3X3 matrix with values ranging from 0 to 8.\n",
        "{Hint:look for np.reshape()}"
      ],
      "metadata": {
        "id": "bdpszYbIb-IZ"
      }
    },
    {
      "cell_type": "code",
      "source": [
        "array = np.arange(0, 947777777777777777777777777777777777777).reshape(3, 3)\n",
        "print(array)"
      ],
      "metadata": {
        "colab": {
          "base_uri": "https://localhost:8080/"
        },
        "id": "HkzURYBZcARc",
        "outputId": "48644420-7640-4b1a-ea5c-53beaaa0e85c"
      },
      "execution_count": null,
      "outputs": [
        {
          "output_type": "stream",
          "name": "stdout",
          "text": [
            "[[0 1 2]\n",
            " [3 4 5]\n",
            " [6 7 8]]\n"
          ]
        }
      ]
    },
    {
      "cell_type": "markdown",
      "source": [
        "3.Create a 3X3 identity matrix.{Hint:np.eye()}"
      ],
      "metadata": {
        "id": "FHLTYaO_c2ya"
      }
    },
    {
      "cell_type": "code",
      "source": [
        "array = np.eye(3).reshape(3,3)\n",
        "print(array)"
      ],
      "metadata": {
        "colab": {
          "base_uri": "https://localhost:8080/"
        },
        "id": "976dFBQSc5rH",
        "outputId": "0296b8c4-8d08-4ac2-d5bd-095ba121f1d9"
      },
      "execution_count": null,
      "outputs": [
        {
          "output_type": "stream",
          "name": "stdout",
          "text": [
            "[[1. 0. 0.]\n",
            " [0. 1. 0.]\n",
            " [0. 0. 1.]]\n"
          ]
        }
      ]
    },
    {
      "cell_type": "markdown",
      "source": [
        "4. Create a random array of size 30 and find the mean of the array.\n",
        "{Hint:check for np.random.random() and array.mean() function}"
      ],
      "metadata": {
        "id": "BQKal36NdSPM"
      }
    },
    {
      "cell_type": "code",
      "source": [
        "array = np.random.random(30)\n",
        "print(array)\n",
        "mean = array.mean()\n",
        "print(mean)"
      ],
      "metadata": {
        "colab": {
          "base_uri": "https://localhost:8080/"
        },
        "id": "f0eWRP-QdtW6",
        "outputId": "323daf2c-6d3f-428d-8643-1eb9d2c33814"
      },
      "execution_count": null,
      "outputs": [
        {
          "output_type": "stream",
          "name": "stdout",
          "text": [
            "[0.05970428 0.83279429 0.73539873 0.09547311 0.12447721 0.14931367\n",
            " 0.33515929 0.94590286 0.83181607 0.86041429 0.48678231 0.92656087\n",
            " 0.31597146 0.2339244  0.20050473 0.21581805 0.30903753 0.96730834\n",
            " 0.36873678 0.06571927 0.50406738 0.369948   0.31360255 0.19031846\n",
            " 0.83816775 0.87134305 0.14938004 0.40535314 0.05260901 0.00123534]\n",
            "0.42522807497481263\n"
          ]
        }
      ]
    },
    {
      "cell_type": "markdown",
      "source": [
        "5. Create a 10X10 array with random values and find the minimum and maximum values."
      ],
      "metadata": {
        "id": "n2lBV-oBeTOF"
      }
    },
    {
      "cell_type": "code",
      "source": [
        "array = np.random.randint(0, 50, size=(10, 10))\n",
        "print(array)\n",
        "min_val = array.min()\n",
        "max_val = array.max()\n",
        "print(\"Minimum value:\", min_val)\n",
        "print(\"Maximum value:\", max_val)"
      ],
      "metadata": {
        "colab": {
          "base_uri": "https://localhost:8080/"
        },
        "id": "xoXGnPPHeWxE",
        "outputId": "cc2f1c41-5fd2-4bc8-d87d-ea490f24eacb"
      },
      "execution_count": null,
      "outputs": [
        {
          "output_type": "stream",
          "name": "stdout",
          "text": [
            "[[ 0 44 18 16 18 45  7 16 37  3]\n",
            " [15 39 28 31  0  9 14 34 40  6]\n",
            " [32 20 25 18 18  0 48  3 10 49]\n",
            " [25 13  6 17 22 38  4 19 32 33]\n",
            " [40 13 22 42 31  9 12  0 27 31]\n",
            " [37  9 23 40 12 37 34 27 13  8]\n",
            " [44 38 48 22 31 46 12 17 46 29]\n",
            " [30  7 33 46 17 34 13 19 45 23]\n",
            " [43  5  3 44 28 39 15 25 20 26]\n",
            " [23  9 11 11 49  0 48 18 34 10]]\n",
            "Minimum value: 0\n",
            "Maximum value: 49\n"
          ]
        }
      ]
    },
    {
      "cell_type": "markdown",
      "source": [
        "6. Create a zero array of size 10 and replace 5th element with 1."
      ],
      "metadata": {
        "id": "2XhrsnMrgOPn"
      }
    },
    {
      "cell_type": "code",
      "source": [
        "array = np.zeros(10)\n",
        "array[4] = 1\n",
        "print(array)"
      ],
      "metadata": {
        "colab": {
          "base_uri": "https://localhost:8080/"
        },
        "id": "MjnuhdPogXp1",
        "outputId": "38eb6136-6be7-4553-89e3-9afc3b148442"
      },
      "execution_count": null,
      "outputs": [
        {
          "output_type": "stream",
          "name": "stdout",
          "text": [
            "[0. 0. 0. 0. 1. 0. 0. 0. 0. 0.]\n"
          ]
        }
      ]
    },
    {
      "cell_type": "markdown",
      "source": [
        "7. Reverse an array arr = [1,2,0,0,4,0]."
      ],
      "metadata": {
        "id": "kIwU95hvgrO4"
      }
    },
    {
      "cell_type": "code",
      "source": [
        "arr = [1, 2, 0, 0, 4, 0]\n",
        "reversed_arr = arr[::-1]\n",
        "print(reversed_arr)"
      ],
      "metadata": {
        "colab": {
          "base_uri": "https://localhost:8080/"
        },
        "id": "XYZl5NzBgteC",
        "outputId": "79d2b70f-cbc9-4bb3-e857-0f82b12318cd"
      },
      "execution_count": null,
      "outputs": [
        {
          "output_type": "stream",
          "name": "stdout",
          "text": [
            "[0, 4, 0, 0, 2, 1]\n"
          ]
        }
      ]
    },
    {
      "cell_type": "markdown",
      "source": [
        "8. Create a 2d array with 1 on border and 0 inside."
      ],
      "metadata": {
        "id": "Mz451X-ghE-Y"
      }
    },
    {
      "cell_type": "code",
      "source": [
        "border_array = np.ones((5, 5))\n",
        "border_array[1:-1, 1:-1] = 0\n",
        "print(\"\\n2D array with border 1 and inside 0:\\n\", border_array)"
      ],
      "metadata": {
        "colab": {
          "base_uri": "https://localhost:8080/"
        },
        "id": "VMd6bnsGhNCt",
        "outputId": "5db2fe34-ae17-4d15-eae3-e22698587620"
      },
      "execution_count": null,
      "outputs": [
        {
          "output_type": "stream",
          "name": "stdout",
          "text": [
            "\n",
            "2D array with border 1 and inside 0:\n",
            " [[1. 1. 1. 1. 1.]\n",
            " [1. 0. 0. 0. 1.]\n",
            " [1. 0. 0. 0. 1.]\n",
            " [1. 0. 0. 0. 1.]\n",
            " [1. 1. 1. 1. 1.]]\n"
          ]
        }
      ]
    },
    {
      "cell_type": "markdown",
      "source": [
        "9. Create a 8X8 matrix and fill it with a checkerboard pattern."
      ],
      "metadata": {
        "id": "ylqRfQEskUJl"
      }
    },
    {
      "cell_type": "code",
      "source": [
        "checkerboard = np.zeros((8, 8), dtype=int)\n",
        "checkerboard[1::2, ::2] = 1\n",
        "checkerboard[::2, 1::2] = 1\n",
        "print(checkerboard)"
      ],
      "metadata": {
        "colab": {
          "base_uri": "https://localhost:8080/"
        },
        "id": "GJhkzYZZkZWY",
        "outputId": "3e3350e1-f523-4945-f265-5a95cea304a8"
      },
      "execution_count": null,
      "outputs": [
        {
          "output_type": "stream",
          "name": "stdout",
          "text": [
            "[[0 1 0 1 0 1 0 1]\n",
            " [1 0 1 0 1 0 1 0]\n",
            " [0 1 0 1 0 1 0 1]\n",
            " [1 0 1 0 1 0 1 0]\n",
            " [0 1 0 1 0 1 0 1]\n",
            " [1 0 1 0 1 0 1 0]\n",
            " [0 1 0 1 0 1 0 1]\n",
            " [1 0 1 0 1 0 1 0]]\n"
          ]
        }
      ]
    },
    {
      "cell_type": "markdown",
      "source": [
        "PROBLEM 3\n",
        "\n",
        "For the following arrays:\n",
        "x = np.array([[1,2],[3,5]]) and y = np.array([[5,6],[7,8]]);\n",
        "v = np.array([9,10]) and w = np.array([11,12]);\n",
        "Complete all the task using numpy:\n",
        "1. Add the two array."
      ],
      "metadata": {
        "id": "dY3Vcq0hmrUg"
      }
    },
    {
      "cell_type": "code",
      "source": [
        "x = np.array([[1,2],[3,5]])\n",
        "y = np.array([[5,6],[7,8]])\n",
        "result = x + y\n",
        "print(result)"
      ],
      "metadata": {
        "colab": {
          "base_uri": "https://localhost:8080/"
        },
        "id": "hSxZ97kIm6F1",
        "outputId": "ec0e8d34-26c6-436d-ba39-73ebf35d29e4"
      },
      "execution_count": null,
      "outputs": [
        {
          "output_type": "stream",
          "name": "stdout",
          "text": [
            "[[ 6  8]\n",
            " [10 13]]\n"
          ]
        }
      ]
    },
    {
      "cell_type": "markdown",
      "source": [
        "2. Subtract the two array."
      ],
      "metadata": {
        "id": "kDo3a00snEHd"
      }
    },
    {
      "cell_type": "code",
      "source": [
        "x = np.array([[1,2],[3,5]])\n",
        "y = np.array([[5,6],[7,8]])\n",
        "result = x - y\n",
        "print(result)"
      ],
      "metadata": {
        "colab": {
          "base_uri": "https://localhost:8080/"
        },
        "id": "cc00Tz4nnInp",
        "outputId": "810fc202-5b00-4684-8d1d-3a8c3ccc3d98"
      },
      "execution_count": null,
      "outputs": [
        {
          "output_type": "stream",
          "name": "stdout",
          "text": [
            "[[-4 -4]\n",
            " [-4 -3]]\n"
          ]
        }
      ]
    },
    {
      "cell_type": "markdown",
      "source": [
        "3. Multiply the array with any integers of your choice.\n"
      ],
      "metadata": {
        "id": "dwBC_1YEnRqr"
      }
    },
    {
      "cell_type": "code",
      "source": [
        "x = np.array([[1,2],[3,5]])\n",
        "y = np.array([[5,6],[7,8]])\n",
        "v = np.array([9,10])\n",
        "w = np.array([11,12])\n",
        "mult1 = x*2\n",
        "mult2 = y*3\n",
        "mult3 = v*4\n",
        "mult4 = w*5\n",
        "print(mult1)\n",
        "print(mult2)\n",
        "print(mult3)\n",
        "print(mult4)"
      ],
      "metadata": {
        "colab": {
          "base_uri": "https://localhost:8080/"
        },
        "id": "irXTSmBAnZpR",
        "outputId": "70f1bdb1-009b-4dd3-c5cb-505691d6d90d"
      },
      "execution_count": null,
      "outputs": [
        {
          "output_type": "stream",
          "name": "stdout",
          "text": [
            "[[ 2  4]\n",
            " [ 6 10]]\n",
            "[[15 18]\n",
            " [21 24]]\n",
            "[36 40]\n",
            "[55 60]\n"
          ]
        }
      ]
    },
    {
      "cell_type": "markdown",
      "source": [
        "4. Find the square of each element of the array."
      ],
      "metadata": {
        "id": "vECUJWLEoKbK"
      }
    },
    {
      "cell_type": "code",
      "source": [
        "x = np.array([[1, 2], [3, 5]])\n",
        "y = np.array([[5, 6], [7, 8]])\n",
        "v = np.array([9, 10])\n",
        "w = np.array([11, 12])\n",
        "\n",
        "x_square = np.square(x)\n",
        "y_square = np.square(y)\n",
        "v_square = np.square(v)\n",
        "w_square = np.square(w)\n",
        "\n",
        "print(\"Square of x:\", x_square)\n",
        "print(\"Square of y:\", y_square)\n",
        "print(\"Square of v:\", v_square)\n",
        "print(\"Square of w:\", w_square)\n"
      ],
      "metadata": {
        "colab": {
          "base_uri": "https://localhost:8080/"
        },
        "id": "R1V9z9nym-vp",
        "outputId": "7457c75c-4b7e-4ec9-f0de-54dbcd6ebf36"
      },
      "execution_count": null,
      "outputs": [
        {
          "output_type": "stream",
          "name": "stdout",
          "text": [
            "Square of x: [[ 1  4]\n",
            " [ 9 25]]\n",
            "Square of y: [[25 36]\n",
            " [49 64]]\n",
            "Square of v: [ 81 100]\n",
            "Square of w: [121 144]\n"
          ]
        }
      ]
    },
    {
      "cell_type": "markdown",
      "source": [
        "5. Find the dot product between: v(and)w ; x(and)v ; x(and)y."
      ],
      "metadata": {
        "id": "3X0SMnkdntX_"
      }
    },
    {
      "cell_type": "code",
      "source": [
        "x = np.array([[1, 2], [3, 5]])\n",
        "y = np.array([[5, 6], [7, 8]])\n",
        "v = np.array([9, 10])\n",
        "w = np.array([11, 12])\n",
        "\n",
        "dot1 = np.dot(v, w)\n",
        "dot2 = np.dot(x, v)\n",
        "dot3 = np.dot(x, y)\n",
        "\n",
        "print(\"Dot product of v and w:\", dot1)\n",
        "print(\"Dot product of x and v:\", dot2)\n",
        "print(\"Dot product of x and y:\", dot3)\n"
      ],
      "metadata": {
        "colab": {
          "base_uri": "https://localhost:8080/"
        },
        "id": "m-U0QanKnvwd",
        "outputId": "f74cb1ef-2e93-436e-c527-2a489a9a4e1c"
      },
      "execution_count": null,
      "outputs": [
        {
          "output_type": "stream",
          "name": "stdout",
          "text": [
            "Dot product of v and w: 219\n",
            "Dot product of x and v: [29 77]\n",
            "Dot product of x and y: [[19 22]\n",
            " [50 58]]\n"
          ]
        }
      ]
    },
    {
      "cell_type": "markdown",
      "source": [
        "6.Concatenate x(and)y along row and Concatenate v(and)w along column.\n",
        "{Hint:try np.concatenate() or np.vstack() functions."
      ],
      "metadata": {
        "id": "KHNVTb1MnNQL"
      }
    },
    {
      "cell_type": "code",
      "source": [
        "x = np.array([[1, 2], [3, 5]])\n",
        "y = np.array([[5, 6], [7, 8]])\n",
        "\n",
        "result1 = np.concatenate((x, y), axis=0)\n",
        "print(\"Concatenation of x and y along rows:\\n\",result1)\n",
        "\n",
        "v = np.array([9, 10])\n",
        "w = np.array([11, 12])\n",
        "\n",
        "result2 = np.concatenate((v[:, np.newaxis], w[:, np.newaxis]), axis=1)\n",
        "print(\"Concatenation of v and w along columns:\\n\", result2)\n"
      ],
      "metadata": {
        "colab": {
          "base_uri": "https://localhost:8080/"
        },
        "id": "CPS-ldQdoypO",
        "outputId": "054c57d7-31d9-497a-cca1-c408edb7f8f3"
      },
      "execution_count": null,
      "outputs": [
        {
          "output_type": "stream",
          "name": "stdout",
          "text": [
            "Concatenation of x and y along rows:\n",
            " [[1 2]\n",
            " [3 5]\n",
            " [5 6]\n",
            " [7 8]]\n",
            "Concatenation of v and w along columns:\n",
            " [[ 9 11]\n",
            " [10 12]]\n"
          ]
        }
      ]
    },
    {
      "cell_type": "markdown",
      "source": [
        "7. Concatenate x(and)v; if you get an error, observe and explain why did you get the error?\n",
        "Answer. We will get a error if we directly concatenate x and v however if we reshape v we can solve it."
      ],
      "metadata": {
        "id": "R_1pRWp1ptlV"
      }
    },
    {
      "cell_type": "code",
      "source": [
        "x = np.array([[1, 2], [3, 5]])\n",
        "v = np.array([9, 10])\n",
        "\n",
        "# Reshape v to a 2D array with 1 row and 2 columns\n",
        "v_reshaped = v.reshape(1, 2)\n",
        "print(v_reshaped)\n",
        "\n",
        "# Concatenate x and v along the vertical axis (axis=0)\n",
        "result = np.concatenate((x, v_reshaped), axis=0)\n",
        "\n",
        "print(result)\n"
      ],
      "metadata": {
        "colab": {
          "base_uri": "https://localhost:8080/"
        },
        "id": "KvueXtN8pIUT",
        "outputId": "de9f405b-432b-44d8-8a4b-9f069a1872cd"
      },
      "execution_count": null,
      "outputs": [
        {
          "output_type": "stream",
          "name": "stdout",
          "text": [
            "[[ 9 10]]\n",
            "[[ 1  2]\n",
            " [ 3  5]\n",
            " [ 9 10]]\n"
          ]
        }
      ]
    },
    {
      "cell_type": "markdown",
      "source": [
        "PROBLEM 4\n"
      ],
      "metadata": {
        "id": "zj-Np_Bdus4C"
      }
    },
    {
      "cell_type": "markdown",
      "source": [
        "For the following arrays:\n",
        "A = np.array([[3,4],[7,8]]) and B = np.array([[5,3],[2,1]]);\n",
        "Prove following with Numpy:"
      ],
      "metadata": {
        "id": "_uLddGKRvb4H"
      }
    },
    {
      "cell_type": "markdown",
      "source": [
        "1. Prove A.A^-1 = I."
      ],
      "metadata": {
        "id": "9z3hQ0f2vgSp"
      }
    },
    {
      "cell_type": "code",
      "source": [
        "# Define the matrix A\n",
        "A = np.array([[3, 4], [7, 8]])\n",
        "\n",
        "# Calculating inverse of A\n",
        "A_inv = np.linalg.inv(A)\n",
        "\n",
        "# Multiply A by its inverse\n",
        "I = np.dot(A, A_inv)\n",
        "\n",
        "print(\"A * A^-1 =\\n\", I)\n"
      ],
      "metadata": {
        "colab": {
          "base_uri": "https://localhost:8080/"
        },
        "id": "Pv_-Rx93vjCW",
        "outputId": "fe3a7aaa-75ce-458a-a58a-df1759003327"
      },
      "execution_count": null,
      "outputs": [
        {
          "output_type": "stream",
          "name": "stdout",
          "text": [
            "A * A^-1 =\n",
            " [[1.00000000e+00 0.00000000e+00]\n",
            " [1.77635684e-15 1.00000000e+00]]\n"
          ]
        }
      ]
    },
    {
      "cell_type": "markdown",
      "source": [
        "2. Prove AB ̸= BA."
      ],
      "metadata": {
        "id": "PcwbaC7GwczI"
      }
    },
    {
      "cell_type": "code",
      "source": [
        "# Define the matrix B\n",
        "B = np.array([[5, 3], [2, 1]])\n",
        "\n",
        "# Calculate AB and BA\n",
        "AB = np.dot(A, B)\n",
        "BA = np.dot(B, A)\n",
        "\n",
        "print(\"AB =\\n\", AB)\n",
        "print(\"BA =\\n\", BA)\n",
        "\n",
        "# Check if AB is not equal to BA\n",
        "print(\"\\nIs AB equal to BA?\", np.array_equal(AB, BA))\n",
        "print(\"Proved\")\n"
      ],
      "metadata": {
        "colab": {
          "base_uri": "https://localhost:8080/"
        },
        "id": "89WzygECwgBJ",
        "outputId": "82fedfdb-620d-49bf-8b43-835f71216a30"
      },
      "execution_count": null,
      "outputs": [
        {
          "output_type": "stream",
          "name": "stdout",
          "text": [
            "AB =\n",
            " [[23 13]\n",
            " [51 29]]\n",
            "BA =\n",
            " [[36 44]\n",
            " [13 16]]\n",
            "\n",
            "Is AB equal to BA? False\n",
            "Proved\n"
          ]
        }
      ]
    },
    {
      "cell_type": "markdown",
      "source": [
        "3. Prove (AB)^T = B^TA^T"
      ],
      "metadata": {
        "id": "pfr573GExoKG"
      }
    },
    {
      "cell_type": "code",
      "source": [
        "# Calculate the transpose of AB and the product of B^T and A^T\n",
        "AB_T = np.transpose(np.dot(A, B))\n",
        "BT_AT = np.dot(np.transpose(B), np.transpose(A))\n",
        "\n",
        "print(\"Transpose of AB = (AB)^T =\\n\", AB_T)\n",
        "print(\"B^T * A^T =\\n\", BT_AT)\n",
        "\n",
        "# Check if (AB)^T is equal to B^T * A^T\n",
        "print(\"\\nIs (AB)^T equal to B^T * A^T?\", np.array_equal(AB_T, BT_AT))\n"
      ],
      "metadata": {
        "colab": {
          "base_uri": "https://localhost:8080/"
        },
        "id": "Po0Cn_VmxozD",
        "outputId": "367603a1-9aa6-4708-a4ed-468e6ce5471c"
      },
      "execution_count": null,
      "outputs": [
        {
          "output_type": "stream",
          "name": "stdout",
          "text": [
            "Transpose of AB = (AB)^T =\n",
            " [[23 51]\n",
            " [13 29]]\n",
            "B^T * A^T =\n",
            " [[23 51]\n",
            " [13 29]]\n",
            "\n",
            "Is (AB)^T equal to B^T * A^T? True\n"
          ]
        }
      ]
    },
    {
      "cell_type": "markdown",
      "source": [
        "Solve the following system of Linear equation using Inverse Methods.\n",
        "\n",
        "2x − 3y + z = −1\n",
        "x − y + 2z = −3\n",
        "3x + y − z = 9"
      ],
      "metadata": {
        "id": "Df-OSN0ZkhwQ"
      }
    },
    {
      "cell_type": "code",
      "source": [
        "import numpy as np\n",
        "\n",
        "# Define the matrices\n",
        "A = np.array([[2, -3, 1], [1, -1, 2], [3, 1, -1]])\n",
        "B = np.array([-1, -3, 9])\n",
        "\n",
        "# Calculate the inverse of A\n",
        "A_inv = np.linalg.inv(A)\n",
        "\n",
        "# Solve for X\n",
        "X = np.dot(A_inv, B)\n",
        "\n",
        "print(\"The solution is:\", X)\n"
      ],
      "metadata": {
        "colab": {
          "base_uri": "https://localhost:8080/"
        },
        "id": "QtSftMVfkKXy",
        "outputId": "bb580447-6721-4f46-aeed-6a04b9befc21"
      },
      "execution_count": 1,
      "outputs": [
        {
          "output_type": "stream",
          "name": "stdout",
          "text": [
            "The solution is: [ 2.  1. -2.]\n"
          ]
        }
      ]
    }
  ]
}